{
 "cells": [
  {
   "cell_type": "markdown",
   "id": "f9a88055",
   "metadata": {},
   "source": [
    "# Analysing Spotify Dataset\n"
   ]
  },
  {
   "cell_type": "markdown",
   "id": "8abd00a9",
   "metadata": {},
   "source": [
    "This dataset consists of  ca. 600 songs that were in the top songs of the year from 2010 to 2019 (as measured by Billboard). The data pulled from [Spotify](http://organizeyourmusic.playlistmachinery.com/#) shows different characteristics of songs such as the beats per minute, amount of spoken words, loudness, and energy of every song. \n"
   ]
  },
  {
   "cell_type": "markdown",
   "id": "9119d3af",
   "metadata": {},
   "source": [
    "## Objectives:<br>\n",
    "This notebook has a goal of performing a descriptive analysis and visualizations of the Spotify data set and cover the following topics:\n",
    "* Decide which artists are the most popular\n",
    "* Discuss the criteria for the popularity\n",
    "* See what year has the highest popularity and why\n",
    "* Analyse what genre people like the most\n",
    "* Demonstrate the role of outliers"
   ]
  },
  {
   "cell_type": "markdown",
   "id": "312b70bf",
   "metadata": {
    "toc": true
   },
   "source": [
    "<h1>Table of Contents<span class=\"tocSkip\"></span></h1>\n",
    "<div class=\"toc\"><ul class=\"toc-item\"><li><span><a href=\"#Objectives:\" data-toc-modified-id=\"Objectives:-1\"><span class=\"toc-item-num\">1&nbsp;&nbsp;</span>Objectives:<br></a></span></li><li><span><a href=\"#Import-the-libraries\" data-toc-modified-id=\"Import-the-libraries-2\"><span class=\"toc-item-num\">2&nbsp;&nbsp;</span>Import the libraries</a></span></li><li><span><a href=\"#Read-the-data-set-from-a-CSV-file\" data-toc-modified-id=\"Read-the-data-set-from-a-CSV-file-3\"><span class=\"toc-item-num\">3&nbsp;&nbsp;</span>Read the data set from a CSV file</a></span></li><li><span><a href=\"#Explore-the-data\" data-toc-modified-id=\"Explore-the-data-4\"><span class=\"toc-item-num\">4&nbsp;&nbsp;</span>Explore the data</a></span><ul class=\"toc-item\"><li><span><a href=\"#First-glipse-on-the-data\" data-toc-modified-id=\"First-glipse-on-the-data-4.1\"><span class=\"toc-item-num\">4.1&nbsp;&nbsp;</span>First glipse on the data<br></a></span></li><li><span><a href=\"#Types\" data-toc-modified-id=\"Types-4.2\"><span class=\"toc-item-num\">4.2&nbsp;&nbsp;</span>Types</a></span></li><li><span><a href=\"#Missing-data\" data-toc-modified-id=\"Missing-data-4.3\"><span class=\"toc-item-num\">4.3&nbsp;&nbsp;</span>Missing data</a></span></li></ul></li><li><span><a href=\"#Descriptive-statistic\" data-toc-modified-id=\"Descriptive-statistic-5\"><span class=\"toc-item-num\">5&nbsp;&nbsp;</span>Descriptive statistic<br></a></span></li><li><span><a href=\"#Let's-find-out-the-most-popular-artists\" data-toc-modified-id=\"Let's-find-out-the-most-popular-artists-6\"><span class=\"toc-item-num\">6&nbsp;&nbsp;</span>Let's find out the most popular artists</a></span><ul class=\"toc-item\"><li><span><a href=\"#Frequency-of-appearance\" data-toc-modified-id=\"Frequency-of-appearance-6.1\"><span class=\"toc-item-num\">6.1&nbsp;&nbsp;</span>Frequency of appearance</a></span></li><li><span><a href=\"#Multiple-occurence\" data-toc-modified-id=\"Multiple-occurence-6.2\"><span class=\"toc-item-num\">6.2&nbsp;&nbsp;</span>Multiple occurence</a></span></li><li><span><a href=\"#Top-5-occurences\" data-toc-modified-id=\"Top-5-occurences-6.3\"><span class=\"toc-item-num\">6.3&nbsp;&nbsp;</span>Top 5 occurences</a></span></li><li><span><a href=\"#Songs-that-appeared-twice\" data-toc-modified-id=\"Songs-that-appeared-twice-6.4\"><span class=\"toc-item-num\">6.4&nbsp;&nbsp;</span>Songs that appeared twice</a></span></li><li><span><a href=\"#Katy-Perry\" data-toc-modified-id=\"Katy-Perry-6.5\"><span class=\"toc-item-num\">6.5&nbsp;&nbsp;</span>Katy Perry</a></span></li><li><span><a href=\"#Popularity-vs.-occurence\" data-toc-modified-id=\"Popularity-vs.-occurence-6.6\"><span class=\"toc-item-num\">6.6&nbsp;&nbsp;</span>Popularity vs. occurence</a></span></li></ul></li><li><span><a href=\"#Most-popular-year\" data-toc-modified-id=\"Most-popular-year-7\"><span class=\"toc-item-num\">7&nbsp;&nbsp;</span>Most popular year</a></span><ul class=\"toc-item\"><li><span><a href=\"#Talk-about-outliers\" data-toc-modified-id=\"Talk-about-outliers-7.1\"><span class=\"toc-item-num\">7.1&nbsp;&nbsp;</span>Talk about outliers</a></span><ul class=\"toc-item\"><li><span><a href=\"#Weird-ratings\" data-toc-modified-id=\"Weird-ratings-7.1.1\"><span class=\"toc-item-num\">7.1.1&nbsp;&nbsp;</span>Weird ratings</a></span></li><li><span><a href=\"#P!nk-and-the-role-of-zeros\" data-toc-modified-id=\"P!nk-and-the-role-of-zeros-7.1.2\"><span class=\"toc-item-num\">7.1.2&nbsp;&nbsp;</span>P!nk and the role of zeros</a></span></li></ul></li><li><span><a href=\"#Over-80\" data-toc-modified-id=\"Over-80-7.2\"><span class=\"toc-item-num\">7.2&nbsp;&nbsp;</span>Over 80</a></span></li><li><span><a href=\"#Conclusion\" data-toc-modified-id=\"Conclusion-7.3\"><span class=\"toc-item-num\">7.3&nbsp;&nbsp;</span>Conclusion</a></span></li></ul></li><li><span><a href=\"#Trends\" data-toc-modified-id=\"Trends-8\"><span class=\"toc-item-num\">8&nbsp;&nbsp;</span>Trends</a></span></li><li><span><a href=\"#Genres\" data-toc-modified-id=\"Genres-9\"><span class=\"toc-item-num\">9&nbsp;&nbsp;</span>Genres</a></span></li><li><span><a href=\"#Conclusion\" data-toc-modified-id=\"Conclusion-10\"><span class=\"toc-item-num\">10&nbsp;&nbsp;</span>Conclusion</a></span></li></ul></div>"
   ]
  },
  {
   "cell_type": "markdown",
   "id": "9d3f3ee2",
   "metadata": {},
   "source": [
    "## Import the libraries"
   ]
  },
  {
   "cell_type": "code",
   "execution_count": 2,
   "id": "181e1bca",
   "metadata": {},
   "outputs": [],
   "source": [
    "import numpy as np\n",
    "import pandas as pd\n",
    "import matplotlib.pyplot as plt\n",
    "import seaborn as sns\n",
    "from scipy.stats import iqr\n",
    "\n",
    "import warnings\n",
    "\n",
    "warnings.filterwarnings('ignore')"
   ]
  },
  {
   "cell_type": "markdown",
   "id": "b169e9da",
   "metadata": {},
   "source": [
    "## Read the data set from a CSV file"
   ]
  },
  {
   "cell_type": "code",
   "execution_count": 3,
   "id": "351bfb4e",
   "metadata": {},
   "outputs": [
    {
     "data": {
      "text/html": [
       "<div>\n",
       "<style scoped>\n",
       "    .dataframe tbody tr th:only-of-type {\n",
       "        vertical-align: middle;\n",
       "    }\n",
       "\n",
       "    .dataframe tbody tr th {\n",
       "        vertical-align: top;\n",
       "    }\n",
       "\n",
       "    .dataframe thead th {\n",
       "        text-align: right;\n",
       "    }\n",
       "</style>\n",
       "<table border=\"1\" class=\"dataframe\">\n",
       "  <thead>\n",
       "    <tr style=\"text-align: right;\">\n",
       "      <th></th>\n",
       "      <th>Unnamed: 0</th>\n",
       "      <th>title</th>\n",
       "      <th>artist</th>\n",
       "      <th>top genre</th>\n",
       "      <th>year</th>\n",
       "      <th>bpm</th>\n",
       "      <th>nrgy</th>\n",
       "      <th>dnce</th>\n",
       "      <th>dB</th>\n",
       "      <th>live</th>\n",
       "      <th>val</th>\n",
       "      <th>dur</th>\n",
       "      <th>acous</th>\n",
       "      <th>spch</th>\n",
       "      <th>pop</th>\n",
       "    </tr>\n",
       "  </thead>\n",
       "  <tbody>\n",
       "    <tr>\n",
       "      <th>0</th>\n",
       "      <td>1</td>\n",
       "      <td>Hey, Soul Sister</td>\n",
       "      <td>Train</td>\n",
       "      <td>neo mellow</td>\n",
       "      <td>2010</td>\n",
       "      <td>97</td>\n",
       "      <td>89</td>\n",
       "      <td>67</td>\n",
       "      <td>-4</td>\n",
       "      <td>8</td>\n",
       "      <td>80</td>\n",
       "      <td>217</td>\n",
       "      <td>19</td>\n",
       "      <td>4</td>\n",
       "      <td>83</td>\n",
       "    </tr>\n",
       "    <tr>\n",
       "      <th>1</th>\n",
       "      <td>2</td>\n",
       "      <td>Love The Way You Lie</td>\n",
       "      <td>Eminem</td>\n",
       "      <td>detroit hip hop</td>\n",
       "      <td>2010</td>\n",
       "      <td>87</td>\n",
       "      <td>93</td>\n",
       "      <td>75</td>\n",
       "      <td>-5</td>\n",
       "      <td>52</td>\n",
       "      <td>64</td>\n",
       "      <td>263</td>\n",
       "      <td>24</td>\n",
       "      <td>23</td>\n",
       "      <td>82</td>\n",
       "    </tr>\n",
       "    <tr>\n",
       "      <th>2</th>\n",
       "      <td>3</td>\n",
       "      <td>TiK ToK</td>\n",
       "      <td>Kesha</td>\n",
       "      <td>dance pop</td>\n",
       "      <td>2010</td>\n",
       "      <td>120</td>\n",
       "      <td>84</td>\n",
       "      <td>76</td>\n",
       "      <td>-3</td>\n",
       "      <td>29</td>\n",
       "      <td>71</td>\n",
       "      <td>200</td>\n",
       "      <td>10</td>\n",
       "      <td>14</td>\n",
       "      <td>80</td>\n",
       "    </tr>\n",
       "    <tr>\n",
       "      <th>3</th>\n",
       "      <td>4</td>\n",
       "      <td>Bad Romance</td>\n",
       "      <td>Lady Gaga</td>\n",
       "      <td>dance pop</td>\n",
       "      <td>2010</td>\n",
       "      <td>119</td>\n",
       "      <td>92</td>\n",
       "      <td>70</td>\n",
       "      <td>-4</td>\n",
       "      <td>8</td>\n",
       "      <td>71</td>\n",
       "      <td>295</td>\n",
       "      <td>0</td>\n",
       "      <td>4</td>\n",
       "      <td>79</td>\n",
       "    </tr>\n",
       "    <tr>\n",
       "      <th>4</th>\n",
       "      <td>5</td>\n",
       "      <td>Just the Way You Are</td>\n",
       "      <td>Bruno Mars</td>\n",
       "      <td>pop</td>\n",
       "      <td>2010</td>\n",
       "      <td>109</td>\n",
       "      <td>84</td>\n",
       "      <td>64</td>\n",
       "      <td>-5</td>\n",
       "      <td>9</td>\n",
       "      <td>43</td>\n",
       "      <td>221</td>\n",
       "      <td>2</td>\n",
       "      <td>4</td>\n",
       "      <td>78</td>\n",
       "    </tr>\n",
       "  </tbody>\n",
       "</table>\n",
       "</div>"
      ],
      "text/plain": [
       "   Unnamed: 0                 title      artist        top genre  year  bpm  \\\n",
       "0           1      Hey, Soul Sister       Train       neo mellow  2010   97   \n",
       "1           2  Love The Way You Lie      Eminem  detroit hip hop  2010   87   \n",
       "2           3               TiK ToK       Kesha        dance pop  2010  120   \n",
       "3           4           Bad Romance   Lady Gaga        dance pop  2010  119   \n",
       "4           5  Just the Way You Are  Bruno Mars              pop  2010  109   \n",
       "\n",
       "   nrgy  dnce  dB  live  val  dur  acous  spch  pop  \n",
       "0    89    67  -4     8   80  217     19     4   83  \n",
       "1    93    75  -5    52   64  263     24    23   82  \n",
       "2    84    76  -3    29   71  200     10    14   80  \n",
       "3    92    70  -4     8   71  295      0     4   79  \n",
       "4    84    64  -5     9   43  221      2     4   78  "
      ]
     },
     "execution_count": 3,
     "metadata": {},
     "output_type": "execute_result"
    }
   ],
   "source": [
    "df = pd.read_csv(\n",
    "    'https://raw.githubusercontent.com/VladimirNechaev1988/Spotify_Music/main/Spotify.csv',\n",
    "    encoding='ISO-8859-1')\n",
    "df.head()"
   ]
  },
  {
   "cell_type": "markdown",
   "id": "c493965c",
   "metadata": {},
   "source": [
    "## Explore the data"
   ]
  },
  {
   "cell_type": "markdown",
   "id": "acef4914",
   "metadata": {},
   "source": [
    "Check the basic information about our data"
   ]
  },
  {
   "cell_type": "code",
   "execution_count": 6,
   "id": "4268cf3e",
   "metadata": {},
   "outputs": [
    {
     "name": "stdout",
     "output_type": "stream",
     "text": [
      "<class 'pandas.core.frame.DataFrame'>\n",
      "RangeIndex: 603 entries, 0 to 602\n",
      "Data columns (total 15 columns):\n",
      " #   Column      Non-Null Count  Dtype \n",
      "---  ------      --------------  ----- \n",
      " 0   Unnamed: 0  603 non-null    int64 \n",
      " 1   title       603 non-null    object\n",
      " 2   artist      603 non-null    object\n",
      " 3   top genre   603 non-null    object\n",
      " 4   year        603 non-null    int64 \n",
      " 5   bpm         603 non-null    int64 \n",
      " 6   nrgy        603 non-null    int64 \n",
      " 7   dnce        603 non-null    int64 \n",
      " 8   dB          603 non-null    int64 \n",
      " 9   live        603 non-null    int64 \n",
      " 10  val         603 non-null    int64 \n",
      " 11  dur         603 non-null    int64 \n",
      " 12  acous       603 non-null    int64 \n",
      " 13  spch        603 non-null    int64 \n",
      " 14  pop         603 non-null    int64 \n",
      "dtypes: int64(12), object(3)\n",
      "memory usage: 70.8+ KB\n"
     ]
    }
   ],
   "source": [
    "df.info()"
   ]
  },
  {
   "cell_type": "markdown",
   "id": "06c1f12b",
   "metadata": {},
   "source": [
    "We can conclude that the data consists of 603 rows and 15 columns and is cinsistent"
   ]
  },
  {
   "cell_type": "markdown",
   "id": "b7e59dc1",
   "metadata": {},
   "source": [
    "### First glipse on the data<br>\n",
    "\n",
    "Let's take a look at our data set and explore what each column means</br>\n",
    "\n",
    "|    | Variable   | Explanation                                                |\n",
    "|---:|:-----------|:-----------------------------------------------------------|\n",
    "|  0 | title      | The title of the song                                      |\n",
    "|  1 | artist     | The artist of the song                                     |\n",
    "|  2 | top genre  | The genre of the song                                      |\n",
    "|  3 | year       | The year the song was in the Billboard                     |\n",
    "|  4 | bpm        | Beats per minute: the tempo of the song                    |\n",
    "|  5 | nrgy       | The energy of the song: higher values mean more energetic (fast, loud)  |\n",
    "|  6 | dnce       | The danceability of the song: higher values mean it's easier to dance to  |\n",
    "|  7 | dB         | Decibel: the loudness of the song  |\n",
    "|  8 | live       | Liveness: likeliness the song was recorded with a live audience  |\n",
    "|  9 | val        | Valence: higher values mean a more positive sound (happy, cheerful) |\n",
    "| 10 | dur        | The duration of the song |\n",
    "| 11 | acous      | The acousticness of the song: likeliness the song is acoustic|\n",
    "| 12 | spch       | Speechines: higher values mean more spoken words |\n",
    "| 13 | pop        | Popularity: higher values mean more popular|"
   ]
  },
  {
   "cell_type": "markdown",
   "id": "aaee2f1f",
   "metadata": {},
   "source": [
    "### Types"
   ]
  },
  {
   "cell_type": "markdown",
   "id": "9e1d6d74",
   "metadata": {},
   "source": [
    "Let's check our data types to make sure the data are consistent"
   ]
  },
  {
   "cell_type": "code",
   "execution_count": 9,
   "id": "7ac0e9e8",
   "metadata": {},
   "outputs": [
    {
     "data": {
      "text/plain": [
       "Unnamed: 0     int64\n",
       "title         object\n",
       "artist        object\n",
       "top genre     object\n",
       "year           int64\n",
       "bpm            int64\n",
       "nrgy           int64\n",
       "dnce           int64\n",
       "dB             int64\n",
       "live           int64\n",
       "val            int64\n",
       "dur            int64\n",
       "acous          int64\n",
       "spch           int64\n",
       "pop            int64\n",
       "dtype: object"
      ]
     },
     "execution_count": 9,
     "metadata": {},
     "output_type": "execute_result"
    }
   ],
   "source": [
    "df.dtypes"
   ]
  },
  {
   "cell_type": "markdown",
   "id": "53620809",
   "metadata": {},
   "source": [
    "All data types seem to be correct. <br>\n",
    "We do have an unwanted first column with the ID numbers which is irrelevant so we can drop it"
   ]
  },
  {
   "cell_type": "code",
   "execution_count": 5,
   "id": "5b168130",
   "metadata": {},
   "outputs": [
    {
     "data": {
      "text/html": [
       "<div>\n",
       "<style scoped>\n",
       "    .dataframe tbody tr th:only-of-type {\n",
       "        vertical-align: middle;\n",
       "    }\n",
       "\n",
       "    .dataframe tbody tr th {\n",
       "        vertical-align: top;\n",
       "    }\n",
       "\n",
       "    .dataframe thead th {\n",
       "        text-align: right;\n",
       "    }\n",
       "</style>\n",
       "<table border=\"1\" class=\"dataframe\">\n",
       "  <thead>\n",
       "    <tr style=\"text-align: right;\">\n",
       "      <th></th>\n",
       "      <th>title</th>\n",
       "      <th>artist</th>\n",
       "      <th>top genre</th>\n",
       "      <th>year</th>\n",
       "      <th>bpm</th>\n",
       "      <th>nrgy</th>\n",
       "      <th>dnce</th>\n",
       "      <th>dB</th>\n",
       "      <th>live</th>\n",
       "      <th>val</th>\n",
       "      <th>dur</th>\n",
       "      <th>acous</th>\n",
       "      <th>spch</th>\n",
       "      <th>pop</th>\n",
       "    </tr>\n",
       "  </thead>\n",
       "  <tbody>\n",
       "    <tr>\n",
       "      <th>0</th>\n",
       "      <td>Hey, Soul Sister</td>\n",
       "      <td>Train</td>\n",
       "      <td>neo mellow</td>\n",
       "      <td>2010</td>\n",
       "      <td>97</td>\n",
       "      <td>89</td>\n",
       "      <td>67</td>\n",
       "      <td>-4</td>\n",
       "      <td>8</td>\n",
       "      <td>80</td>\n",
       "      <td>217</td>\n",
       "      <td>19</td>\n",
       "      <td>4</td>\n",
       "      <td>83</td>\n",
       "    </tr>\n",
       "    <tr>\n",
       "      <th>1</th>\n",
       "      <td>Love The Way You Lie</td>\n",
       "      <td>Eminem</td>\n",
       "      <td>detroit hip hop</td>\n",
       "      <td>2010</td>\n",
       "      <td>87</td>\n",
       "      <td>93</td>\n",
       "      <td>75</td>\n",
       "      <td>-5</td>\n",
       "      <td>52</td>\n",
       "      <td>64</td>\n",
       "      <td>263</td>\n",
       "      <td>24</td>\n",
       "      <td>23</td>\n",
       "      <td>82</td>\n",
       "    </tr>\n",
       "    <tr>\n",
       "      <th>2</th>\n",
       "      <td>TiK ToK</td>\n",
       "      <td>Kesha</td>\n",
       "      <td>dance pop</td>\n",
       "      <td>2010</td>\n",
       "      <td>120</td>\n",
       "      <td>84</td>\n",
       "      <td>76</td>\n",
       "      <td>-3</td>\n",
       "      <td>29</td>\n",
       "      <td>71</td>\n",
       "      <td>200</td>\n",
       "      <td>10</td>\n",
       "      <td>14</td>\n",
       "      <td>80</td>\n",
       "    </tr>\n",
       "    <tr>\n",
       "      <th>3</th>\n",
       "      <td>Bad Romance</td>\n",
       "      <td>Lady Gaga</td>\n",
       "      <td>dance pop</td>\n",
       "      <td>2010</td>\n",
       "      <td>119</td>\n",
       "      <td>92</td>\n",
       "      <td>70</td>\n",
       "      <td>-4</td>\n",
       "      <td>8</td>\n",
       "      <td>71</td>\n",
       "      <td>295</td>\n",
       "      <td>0</td>\n",
       "      <td>4</td>\n",
       "      <td>79</td>\n",
       "    </tr>\n",
       "    <tr>\n",
       "      <th>4</th>\n",
       "      <td>Just the Way You Are</td>\n",
       "      <td>Bruno Mars</td>\n",
       "      <td>pop</td>\n",
       "      <td>2010</td>\n",
       "      <td>109</td>\n",
       "      <td>84</td>\n",
       "      <td>64</td>\n",
       "      <td>-5</td>\n",
       "      <td>9</td>\n",
       "      <td>43</td>\n",
       "      <td>221</td>\n",
       "      <td>2</td>\n",
       "      <td>4</td>\n",
       "      <td>78</td>\n",
       "    </tr>\n",
       "  </tbody>\n",
       "</table>\n",
       "</div>"
      ],
      "text/plain": [
       "                  title      artist        top genre  year  bpm  nrgy  dnce  \\\n",
       "0      Hey, Soul Sister       Train       neo mellow  2010   97    89    67   \n",
       "1  Love The Way You Lie      Eminem  detroit hip hop  2010   87    93    75   \n",
       "2               TiK ToK       Kesha        dance pop  2010  120    84    76   \n",
       "3           Bad Romance   Lady Gaga        dance pop  2010  119    92    70   \n",
       "4  Just the Way You Are  Bruno Mars              pop  2010  109    84    64   \n",
       "\n",
       "   dB  live  val  dur  acous  spch  pop  \n",
       "0  -4     8   80  217     19     4   83  \n",
       "1  -5    52   64  263     24    23   82  \n",
       "2  -3    29   71  200     10    14   80  \n",
       "3  -4     8   71  295      0     4   79  \n",
       "4  -5     9   43  221      2     4   78  "
      ]
     },
     "execution_count": 5,
     "metadata": {},
     "output_type": "execute_result"
    }
   ],
   "source": [
    "df.drop(\"Unnamed: 0\", axis=1, inplace=True)\n",
    "df.head()"
   ]
  },
  {
   "cell_type": "markdown",
   "id": "dd3e3041",
   "metadata": {},
   "source": [
    "### Missing data"
   ]
  },
  {
   "cell_type": "markdown",
   "id": "908e3aed",
   "metadata": {},
   "source": [
    "Let's check if there are any missing values"
   ]
  },
  {
   "cell_type": "code",
   "execution_count": 6,
   "id": "aa818eb2",
   "metadata": {},
   "outputs": [
    {
     "data": {
      "text/plain": [
       "title        False\n",
       "artist       False\n",
       "top genre    False\n",
       "year         False\n",
       "bpm          False\n",
       "nrgy         False\n",
       "dnce         False\n",
       "dB           False\n",
       "live         False\n",
       "val          False\n",
       "dur          False\n",
       "acous        False\n",
       "spch         False\n",
       "pop          False\n",
       "dtype: bool"
      ]
     },
     "execution_count": 6,
     "metadata": {},
     "output_type": "execute_result"
    }
   ],
   "source": [
    "df.isna().any()"
   ]
  },
  {
   "cell_type": "code",
   "execution_count": 7,
   "id": "a3ca8f0b",
   "metadata": {},
   "outputs": [
    {
     "data": {
      "text/plain": [
       "title        0\n",
       "artist       0\n",
       "top genre    0\n",
       "year         0\n",
       "bpm          0\n",
       "nrgy         0\n",
       "dnce         0\n",
       "dB           0\n",
       "live         0\n",
       "val          0\n",
       "dur          0\n",
       "acous        0\n",
       "spch         0\n",
       "pop          0\n",
       "dtype: int64"
      ]
     },
     "execution_count": 7,
     "metadata": {},
     "output_type": "execute_result"
    }
   ],
   "source": [
    "df.isna().sum()"
   ]
  },
  {
   "cell_type": "markdown",
   "id": "0cec4518",
   "metadata": {},
   "source": [
    "We are lucky, the data set is clean!"
   ]
  },
  {
   "cell_type": "markdown",
   "id": "877e1aab",
   "metadata": {},
   "source": [
    "## Descriptive statistic<br>\n",
    "\n",
    "We will discover:\n",
    "\n",
    "<ul>\n",
    "    <li>the count of that variable</li>\n",
    "    <li>the mean</li>\n",
    "    <li>the standard deviation (std)</li> \n",
    "    <li>the minimum value</li>\n",
    "    <li>the IQR (Interquartile Range: 25%, 50% and 75%)</li>\n",
    "    <li>the maximum value</li>\n",
    "<ul>"
   ]
  },
  {
   "cell_type": "code",
   "execution_count": 8,
   "id": "25eb5afc",
   "metadata": {},
   "outputs": [
    {
     "data": {
      "text/html": [
       "<div>\n",
       "<style scoped>\n",
       "    .dataframe tbody tr th:only-of-type {\n",
       "        vertical-align: middle;\n",
       "    }\n",
       "\n",
       "    .dataframe tbody tr th {\n",
       "        vertical-align: top;\n",
       "    }\n",
       "\n",
       "    .dataframe thead th {\n",
       "        text-align: right;\n",
       "    }\n",
       "</style>\n",
       "<table border=\"1\" class=\"dataframe\">\n",
       "  <thead>\n",
       "    <tr style=\"text-align: right;\">\n",
       "      <th></th>\n",
       "      <th>year</th>\n",
       "      <th>bpm</th>\n",
       "      <th>nrgy</th>\n",
       "      <th>dnce</th>\n",
       "      <th>dB</th>\n",
       "      <th>live</th>\n",
       "      <th>val</th>\n",
       "      <th>dur</th>\n",
       "      <th>acous</th>\n",
       "      <th>spch</th>\n",
       "      <th>pop</th>\n",
       "    </tr>\n",
       "  </thead>\n",
       "  <tbody>\n",
       "    <tr>\n",
       "      <th>count</th>\n",
       "      <td>603.000000</td>\n",
       "      <td>603.000000</td>\n",
       "      <td>603.000000</td>\n",
       "      <td>603.000000</td>\n",
       "      <td>603.000000</td>\n",
       "      <td>603.000000</td>\n",
       "      <td>603.000000</td>\n",
       "      <td>603.000000</td>\n",
       "      <td>603.000000</td>\n",
       "      <td>603.000000</td>\n",
       "      <td>603.000000</td>\n",
       "    </tr>\n",
       "    <tr>\n",
       "      <th>mean</th>\n",
       "      <td>2014.592040</td>\n",
       "      <td>118.545605</td>\n",
       "      <td>70.504146</td>\n",
       "      <td>64.379768</td>\n",
       "      <td>-5.578773</td>\n",
       "      <td>17.774461</td>\n",
       "      <td>52.225539</td>\n",
       "      <td>224.674959</td>\n",
       "      <td>14.326700</td>\n",
       "      <td>8.358209</td>\n",
       "      <td>66.520730</td>\n",
       "    </tr>\n",
       "    <tr>\n",
       "      <th>std</th>\n",
       "      <td>2.607057</td>\n",
       "      <td>24.795358</td>\n",
       "      <td>16.310664</td>\n",
       "      <td>13.378718</td>\n",
       "      <td>2.798020</td>\n",
       "      <td>13.102543</td>\n",
       "      <td>22.513020</td>\n",
       "      <td>34.130059</td>\n",
       "      <td>20.766165</td>\n",
       "      <td>7.483162</td>\n",
       "      <td>14.517746</td>\n",
       "    </tr>\n",
       "    <tr>\n",
       "      <th>min</th>\n",
       "      <td>2010.000000</td>\n",
       "      <td>0.000000</td>\n",
       "      <td>0.000000</td>\n",
       "      <td>0.000000</td>\n",
       "      <td>-60.000000</td>\n",
       "      <td>0.000000</td>\n",
       "      <td>0.000000</td>\n",
       "      <td>134.000000</td>\n",
       "      <td>0.000000</td>\n",
       "      <td>0.000000</td>\n",
       "      <td>0.000000</td>\n",
       "    </tr>\n",
       "    <tr>\n",
       "      <th>25%</th>\n",
       "      <td>2013.000000</td>\n",
       "      <td>100.000000</td>\n",
       "      <td>61.000000</td>\n",
       "      <td>57.000000</td>\n",
       "      <td>-6.000000</td>\n",
       "      <td>9.000000</td>\n",
       "      <td>35.000000</td>\n",
       "      <td>202.000000</td>\n",
       "      <td>2.000000</td>\n",
       "      <td>4.000000</td>\n",
       "      <td>60.000000</td>\n",
       "    </tr>\n",
       "    <tr>\n",
       "      <th>50%</th>\n",
       "      <td>2015.000000</td>\n",
       "      <td>120.000000</td>\n",
       "      <td>74.000000</td>\n",
       "      <td>66.000000</td>\n",
       "      <td>-5.000000</td>\n",
       "      <td>12.000000</td>\n",
       "      <td>52.000000</td>\n",
       "      <td>221.000000</td>\n",
       "      <td>6.000000</td>\n",
       "      <td>5.000000</td>\n",
       "      <td>69.000000</td>\n",
       "    </tr>\n",
       "    <tr>\n",
       "      <th>75%</th>\n",
       "      <td>2017.000000</td>\n",
       "      <td>129.000000</td>\n",
       "      <td>82.000000</td>\n",
       "      <td>73.000000</td>\n",
       "      <td>-4.000000</td>\n",
       "      <td>24.000000</td>\n",
       "      <td>69.000000</td>\n",
       "      <td>239.500000</td>\n",
       "      <td>17.000000</td>\n",
       "      <td>9.000000</td>\n",
       "      <td>76.000000</td>\n",
       "    </tr>\n",
       "    <tr>\n",
       "      <th>max</th>\n",
       "      <td>2019.000000</td>\n",
       "      <td>206.000000</td>\n",
       "      <td>98.000000</td>\n",
       "      <td>97.000000</td>\n",
       "      <td>-2.000000</td>\n",
       "      <td>74.000000</td>\n",
       "      <td>98.000000</td>\n",
       "      <td>424.000000</td>\n",
       "      <td>99.000000</td>\n",
       "      <td>48.000000</td>\n",
       "      <td>99.000000</td>\n",
       "    </tr>\n",
       "  </tbody>\n",
       "</table>\n",
       "</div>"
      ],
      "text/plain": [
       "              year         bpm        nrgy        dnce          dB  \\\n",
       "count   603.000000  603.000000  603.000000  603.000000  603.000000   \n",
       "mean   2014.592040  118.545605   70.504146   64.379768   -5.578773   \n",
       "std       2.607057   24.795358   16.310664   13.378718    2.798020   \n",
       "min    2010.000000    0.000000    0.000000    0.000000  -60.000000   \n",
       "25%    2013.000000  100.000000   61.000000   57.000000   -6.000000   \n",
       "50%    2015.000000  120.000000   74.000000   66.000000   -5.000000   \n",
       "75%    2017.000000  129.000000   82.000000   73.000000   -4.000000   \n",
       "max    2019.000000  206.000000   98.000000   97.000000   -2.000000   \n",
       "\n",
       "             live         val         dur       acous        spch         pop  \n",
       "count  603.000000  603.000000  603.000000  603.000000  603.000000  603.000000  \n",
       "mean    17.774461   52.225539  224.674959   14.326700    8.358209   66.520730  \n",
       "std     13.102543   22.513020   34.130059   20.766165    7.483162   14.517746  \n",
       "min      0.000000    0.000000  134.000000    0.000000    0.000000    0.000000  \n",
       "25%      9.000000   35.000000  202.000000    2.000000    4.000000   60.000000  \n",
       "50%     12.000000   52.000000  221.000000    6.000000    5.000000   69.000000  \n",
       "75%     24.000000   69.000000  239.500000   17.000000    9.000000   76.000000  \n",
       "max     74.000000   98.000000  424.000000   99.000000   48.000000   99.000000  "
      ]
     },
     "execution_count": 8,
     "metadata": {},
     "output_type": "execute_result"
    }
   ],
   "source": [
    "df.describe()"
   ]
  },
  {
   "cell_type": "markdown",
   "id": "b53c341f",
   "metadata": {},
   "source": [
    "We might wanna include the categorical variables as well to see how many unique values there are and which one is the most frequent"
   ]
  },
  {
   "cell_type": "code",
   "execution_count": 9,
   "id": "6b584a20",
   "metadata": {},
   "outputs": [
    {
     "data": {
      "text/html": [
       "<div>\n",
       "<style scoped>\n",
       "    .dataframe tbody tr th:only-of-type {\n",
       "        vertical-align: middle;\n",
       "    }\n",
       "\n",
       "    .dataframe tbody tr th {\n",
       "        vertical-align: top;\n",
       "    }\n",
       "\n",
       "    .dataframe thead th {\n",
       "        text-align: right;\n",
       "    }\n",
       "</style>\n",
       "<table border=\"1\" class=\"dataframe\">\n",
       "  <thead>\n",
       "    <tr style=\"text-align: right;\">\n",
       "      <th></th>\n",
       "      <th>title</th>\n",
       "      <th>artist</th>\n",
       "      <th>top genre</th>\n",
       "    </tr>\n",
       "  </thead>\n",
       "  <tbody>\n",
       "    <tr>\n",
       "      <th>count</th>\n",
       "      <td>603</td>\n",
       "      <td>603</td>\n",
       "      <td>603</td>\n",
       "    </tr>\n",
       "    <tr>\n",
       "      <th>unique</th>\n",
       "      <td>584</td>\n",
       "      <td>184</td>\n",
       "      <td>50</td>\n",
       "    </tr>\n",
       "    <tr>\n",
       "      <th>top</th>\n",
       "      <td>A Little Party Never Killed Nobody (All We Got)</td>\n",
       "      <td>Katy Perry</td>\n",
       "      <td>dance pop</td>\n",
       "    </tr>\n",
       "    <tr>\n",
       "      <th>freq</th>\n",
       "      <td>2</td>\n",
       "      <td>17</td>\n",
       "      <td>327</td>\n",
       "    </tr>\n",
       "  </tbody>\n",
       "</table>\n",
       "</div>"
      ],
      "text/plain": [
       "                                                  title      artist  top genre\n",
       "count                                               603         603        603\n",
       "unique                                              584         184         50\n",
       "top     A Little Party Never Killed Nobody (All We Got)  Katy Perry  dance pop\n",
       "freq                                                  2          17        327"
      ]
     },
     "execution_count": 9,
     "metadata": {},
     "output_type": "execute_result"
    }
   ],
   "source": [
    "df.describe(include=['object'])"
   ]
  },
  {
   "cell_type": "markdown",
   "id": "0d82a300",
   "metadata": {},
   "source": [
    "We can see that out of 603 records, there are 184 unique artists, 584 songs in 50 genres, with Katy Perry appearing the most often<br> Let's go ahead and see, what artists are as well in the list of leaders by appearance"
   ]
  },
  {
   "cell_type": "markdown",
   "id": "7729e5de",
   "metadata": {},
   "source": [
    "## Let's find out the most popular artists"
   ]
  },
  {
   "cell_type": "markdown",
   "id": "8c53c9b7",
   "metadata": {},
   "source": [
    "The artist popularity can be defined either by the consistent occurence in the chart, or by the popularity rating <br> Let's explore the difference"
   ]
  },
  {
   "cell_type": "markdown",
   "id": "b1973440",
   "metadata": {},
   "source": [
    "First, let's subset the arstist column and calculate how often they appeared"
   ]
  },
  {
   "cell_type": "code",
   "execution_count": 10,
   "id": "b1ad4dcc",
   "metadata": {},
   "outputs": [
    {
     "data": {
      "text/html": [
       "<div>\n",
       "<style scoped>\n",
       "    .dataframe tbody tr th:only-of-type {\n",
       "        vertical-align: middle;\n",
       "    }\n",
       "\n",
       "    .dataframe tbody tr th {\n",
       "        vertical-align: top;\n",
       "    }\n",
       "\n",
       "    .dataframe thead th {\n",
       "        text-align: right;\n",
       "    }\n",
       "</style>\n",
       "<table border=\"1\" class=\"dataframe\">\n",
       "  <thead>\n",
       "    <tr style=\"text-align: right;\">\n",
       "      <th></th>\n",
       "      <th>artist</th>\n",
       "      <th>count</th>\n",
       "    </tr>\n",
       "  </thead>\n",
       "  <tbody>\n",
       "    <tr>\n",
       "      <th>0</th>\n",
       "      <td>Katy Perry</td>\n",
       "      <td>17</td>\n",
       "    </tr>\n",
       "    <tr>\n",
       "      <th>1</th>\n",
       "      <td>Justin Bieber</td>\n",
       "      <td>16</td>\n",
       "    </tr>\n",
       "    <tr>\n",
       "      <th>2</th>\n",
       "      <td>Rihanna</td>\n",
       "      <td>15</td>\n",
       "    </tr>\n",
       "    <tr>\n",
       "      <th>3</th>\n",
       "      <td>Maroon 5</td>\n",
       "      <td>15</td>\n",
       "    </tr>\n",
       "    <tr>\n",
       "      <th>4</th>\n",
       "      <td>Lady Gaga</td>\n",
       "      <td>14</td>\n",
       "    </tr>\n",
       "    <tr>\n",
       "      <th>...</th>\n",
       "      <td>...</td>\n",
       "      <td>...</td>\n",
       "    </tr>\n",
       "    <tr>\n",
       "      <th>179</th>\n",
       "      <td>Iggy Azalea</td>\n",
       "      <td>1</td>\n",
       "    </tr>\n",
       "    <tr>\n",
       "      <th>180</th>\n",
       "      <td>5 Seconds of Summer</td>\n",
       "      <td>1</td>\n",
       "    </tr>\n",
       "    <tr>\n",
       "      <th>181</th>\n",
       "      <td>Michael Jackson</td>\n",
       "      <td>1</td>\n",
       "    </tr>\n",
       "    <tr>\n",
       "      <th>182</th>\n",
       "      <td>Disclosure</td>\n",
       "      <td>1</td>\n",
       "    </tr>\n",
       "    <tr>\n",
       "      <th>183</th>\n",
       "      <td>Daddy Yankee</td>\n",
       "      <td>1</td>\n",
       "    </tr>\n",
       "  </tbody>\n",
       "</table>\n",
       "<p>184 rows × 2 columns</p>\n",
       "</div>"
      ],
      "text/plain": [
       "                  artist  count\n",
       "0             Katy Perry     17\n",
       "1          Justin Bieber     16\n",
       "2                Rihanna     15\n",
       "3               Maroon 5     15\n",
       "4              Lady Gaga     14\n",
       "..                   ...    ...\n",
       "179          Iggy Azalea      1\n",
       "180  5 Seconds of Summer      1\n",
       "181      Michael Jackson      1\n",
       "182           Disclosure      1\n",
       "183         Daddy Yankee      1\n",
       "\n",
       "[184 rows x 2 columns]"
      ]
     },
     "execution_count": 10,
     "metadata": {},
     "output_type": "execute_result"
    }
   ],
   "source": [
    "artist = df['artist'].value_counts().to_frame().reset_index(level=0).rename(\n",
    "    columns={\n",
    "        'artist': 'count',\n",
    "        'index': 'artist'\n",
    "    })\n",
    "\n",
    "artist"
   ]
  },
  {
   "cell_type": "markdown",
   "id": "0eff90f8",
   "metadata": {},
   "source": [
    "Yep, that's right, Katy Pery is on the top.\n"
   ]
  },
  {
   "cell_type": "markdown",
   "id": "fd982043",
   "metadata": {},
   "source": [
    "### Frequency of appearance"
   ]
  },
  {
   "cell_type": "markdown",
   "id": "cef15400",
   "metadata": {},
   "source": [
    "Now let's choose the artists which appear in the list 10 or more times"
   ]
  },
  {
   "cell_type": "code",
   "execution_count": 11,
   "id": "7f692695",
   "metadata": {},
   "outputs": [
    {
     "data": {
      "text/plain": [
       "(13, 2)"
      ]
     },
     "execution_count": 11,
     "metadata": {},
     "output_type": "execute_result"
    }
   ],
   "source": [
    "artist_10 = artist[artist['count'] >= 10]\n",
    "artist_10.shape"
   ]
  },
  {
   "cell_type": "markdown",
   "id": "6dd07df7",
   "metadata": {},
   "source": [
    "We have 13 artist in this group!<br>\n",
    "Let's plot them"
   ]
  },
  {
   "cell_type": "code",
   "execution_count": 12,
   "id": "4ff39bd5",
   "metadata": {},
   "outputs": [
    {
     "data": {
      "image/png": "[encoded data removed]",
      "text/plain": [
       "<Figure size 500x500 with 1 Axes>"
      ]
     },
     "metadata": {},
     "output_type": "display_data"
    }
   ],
   "source": [
    "g = sns.catplot(x='artist', y='count', data=artist_10, kind='bar')\n",
    "g.fig.suptitle(\"Artists who Appeared the Most Often\")\n",
    "g.set(xlabel='Artist', ylabel='Times Appeared')\n",
    "plt.xticks(rotation=90)\n",
    "plt.show()"
   ]
  },
  {
   "cell_type": "markdown",
   "id": "01dffc39",
   "metadata": {},
   "source": [
    "That's right, Katy Perry is on the top, followed by Justin Bieber and Rihanna. Adele closes the top 10"
   ]
  },
  {
   "cell_type": "markdown",
   "id": "cb5d5bc0",
   "metadata": {},
   "source": [
    "### Multiple occurence"
   ]
  },
  {
   "cell_type": "markdown",
   "id": "1ae880da",
   "metadata": {},
   "source": [
    "We can as well check how many artists appeared once, twice, three times, etc"
   ]
  },
  {
   "cell_type": "code",
   "execution_count": 13,
   "id": "1277c16a",
   "metadata": {},
   "outputs": [
    {
     "data": {
      "image/png": "[encoded data removed]",
      "text/plain": [
       "<Figure size 500x500 with 1 Axes>"
      ]
     },
     "metadata": {},
     "output_type": "display_data"
    }
   ],
   "source": [
    "g = sns.catplot(x='count', data=artist, kind='count')\n",
    "g.fig.suptitle(\"How Often does an Artist Appear?\", y=1.02)\n",
    "g.set(xlabel='Numbers Appeared in the Chart', ylabel='Count')\n",
    "plt.show()"
   ]
  },
  {
   "cell_type": "markdown",
   "id": "f74958ca",
   "metadata": {},
   "source": [
    "As we can see, most artists appeared only once, yet some appered 13, 14, 16 and 17 times!"
   ]
  },
  {
   "cell_type": "code",
   "execution_count": 14,
   "id": "67eb2538",
   "metadata": {},
   "outputs": [
    {
     "data": {
      "text/plain": [
       "(73, 2)"
      ]
     },
     "execution_count": 14,
     "metadata": {},
     "output_type": "execute_result"
    }
   ],
   "source": [
    "artist[artist['count'] == 1].shape"
   ]
  },
  {
   "cell_type": "markdown",
   "id": "5cb3a78a",
   "metadata": {},
   "source": [
    "To be more precise, there are 73 artists out of 184 who appered only once"
   ]
  },
  {
   "cell_type": "markdown",
   "id": "0a33b929",
   "metadata": {},
   "source": [
    "### Top 5 occurences"
   ]
  },
  {
   "cell_type": "markdown",
   "id": "f21a5f0c",
   "metadata": {},
   "source": [
    "And who are those who appeared the most often?"
   ]
  },
  {
   "cell_type": "code",
   "execution_count": 15,
   "id": "18286b77",
   "metadata": {},
   "outputs": [],
   "source": [
    "most_occurence = artist['count'][0:5].unique().tolist()"
   ]
  },
  {
   "cell_type": "code",
   "execution_count": 16,
   "id": "aa3e91e5",
   "metadata": {},
   "outputs": [
    {
     "data": {
      "image/png": "[encoded data removed]",
      "text/plain": [
       "<Figure size 500x500 with 1 Axes>"
      ]
     },
     "metadata": {},
     "output_type": "display_data"
    }
   ],
   "source": [
    "leaders = artist[artist['count'].isin(most_occurence)]\n",
    "g = sns.catplot(x='artist', y='count', data=leaders, kind='bar')\n",
    "g.fig.suptitle(\"Artists who Appeared Most Often\", y=1.02)\n",
    "g.set(xlabel='Artist', ylabel='Times Appeared')\n",
    "plt.xticks(rotation=90)\n",
    "plt.show()"
   ]
  },
  {
   "cell_type": "markdown",
   "id": "4001e189",
   "metadata": {},
   "source": [
    "### Songs that appeared twice"
   ]
  },
  {
   "cell_type": "markdown",
   "id": "8f0a4d18",
   "metadata": {},
   "source": [
    "Let's find out which songs ended up twice in our rating (two years in a row)"
   ]
  },
  {
   "cell_type": "markdown",
   "id": "c7e7bd11",
   "metadata": {},
   "source": [
    "First, lets count the tiles"
   ]
  },
  {
   "cell_type": "code",
   "execution_count": 17,
   "id": "e01abd4b",
   "metadata": {},
   "outputs": [
    {
     "data": {
      "text/html": [
       "<div>\n",
       "<style scoped>\n",
       "    .dataframe tbody tr th:only-of-type {\n",
       "        vertical-align: middle;\n",
       "    }\n",
       "\n",
       "    .dataframe tbody tr th {\n",
       "        vertical-align: top;\n",
       "    }\n",
       "\n",
       "    .dataframe thead th {\n",
       "        text-align: right;\n",
       "    }\n",
       "</style>\n",
       "<table border=\"1\" class=\"dataframe\">\n",
       "  <thead>\n",
       "    <tr style=\"text-align: right;\">\n",
       "      <th></th>\n",
       "      <th>title</th>\n",
       "      <th>count</th>\n",
       "    </tr>\n",
       "  </thead>\n",
       "  <tbody>\n",
       "    <tr>\n",
       "      <th>0</th>\n",
       "      <td>A Little Party Never Killed Nobody (All We Got)</td>\n",
       "      <td>2</td>\n",
       "    </tr>\n",
       "    <tr>\n",
       "      <th>1</th>\n",
       "      <td>All I Ask</td>\n",
       "      <td>2</td>\n",
       "    </tr>\n",
       "    <tr>\n",
       "      <th>2</th>\n",
       "      <td>Kissing Strangers</td>\n",
       "      <td>2</td>\n",
       "    </tr>\n",
       "    <tr>\n",
       "      <th>3</th>\n",
       "      <td>Written in the Stars (feat. Eric Turner)</td>\n",
       "      <td>2</td>\n",
       "    </tr>\n",
       "    <tr>\n",
       "      <th>4</th>\n",
       "      <td>The Hills</td>\n",
       "      <td>2</td>\n",
       "    </tr>\n",
       "    <tr>\n",
       "      <th>...</th>\n",
       "      <td>...</td>\n",
       "      <td>...</td>\n",
       "    </tr>\n",
       "    <tr>\n",
       "      <th>579</th>\n",
       "      <td>Finally Found You</td>\n",
       "      <td>1</td>\n",
       "    </tr>\n",
       "    <tr>\n",
       "      <th>580</th>\n",
       "      <td>Anything Could Happen</td>\n",
       "      <td>1</td>\n",
       "    </tr>\n",
       "    <tr>\n",
       "      <th>581</th>\n",
       "      <td>Applause</td>\n",
       "      <td>1</td>\n",
       "    </tr>\n",
       "    <tr>\n",
       "      <th>582</th>\n",
       "      <td>Take Back the Night</td>\n",
       "      <td>1</td>\n",
       "    </tr>\n",
       "    <tr>\n",
       "      <th>583</th>\n",
       "      <td>Kills You Slowly</td>\n",
       "      <td>1</td>\n",
       "    </tr>\n",
       "  </tbody>\n",
       "</table>\n",
       "<p>584 rows × 2 columns</p>\n",
       "</div>"
      ],
      "text/plain": [
       "                                               title  count\n",
       "0    A Little Party Never Killed Nobody (All We Got)      2\n",
       "1                                          All I Ask      2\n",
       "2                                  Kissing Strangers      2\n",
       "3           Written in the Stars (feat. Eric Turner)      2\n",
       "4                                          The Hills      2\n",
       "..                                               ...    ...\n",
       "579                                Finally Found You      1\n",
       "580                            Anything Could Happen      1\n",
       "581                                         Applause      1\n",
       "582                              Take Back the Night      1\n",
       "583                                 Kills You Slowly      1\n",
       "\n",
       "[584 rows x 2 columns]"
      ]
     },
     "execution_count": 17,
     "metadata": {},
     "output_type": "execute_result"
    }
   ],
   "source": [
    "title = df['title'].value_counts().to_frame().reset_index(level=0).rename(\n",
    "    columns={\n",
    "        'title': 'count',\n",
    "        'index': 'title'\n",
    "    })\n",
    "title"
   ]
  },
  {
   "cell_type": "markdown",
   "id": "1c363791",
   "metadata": {},
   "source": [
    "Now, let's see how many of them appeared twice"
   ]
  },
  {
   "cell_type": "code",
   "execution_count": 18,
   "id": "387a911e",
   "metadata": {},
   "outputs": [
    {
     "name": "stdout",
     "output_type": "stream",
     "text": [
      "There are 19 songs that appeared twice in the chart\n"
     ]
    }
   ],
   "source": [
    "title_2 = title[title['count'] == 2]\n",
    "print('There are', title_2.shape[0], 'songs that appeared twice in the chart')"
   ]
  },
  {
   "cell_type": "markdown",
   "id": "34455a28",
   "metadata": {},
   "source": [
    "Check who are those artists with two songs"
   ]
  },
  {
   "cell_type": "markdown",
   "id": "fa727edf",
   "metadata": {},
   "source": [
    "For that, we will perform a join with the main data set on the title<br> \n",
    "Since we are talking about the songs that appeared twice, we will get the artists twice as well, so we need to exclude the duplicates"
   ]
  },
  {
   "cell_type": "code",
   "execution_count": 19,
   "id": "7fca89b0",
   "metadata": {},
   "outputs": [
    {
     "data": {
      "text/html": [
       "<div>\n",
       "<style scoped>\n",
       "    .dataframe tbody tr th:only-of-type {\n",
       "        vertical-align: middle;\n",
       "    }\n",
       "\n",
       "    .dataframe tbody tr th {\n",
       "        vertical-align: top;\n",
       "    }\n",
       "\n",
       "    .dataframe thead th {\n",
       "        text-align: right;\n",
       "    }\n",
       "</style>\n",
       "<table border=\"1\" class=\"dataframe\">\n",
       "  <thead>\n",
       "    <tr style=\"text-align: right;\">\n",
       "      <th></th>\n",
       "      <th>artist</th>\n",
       "    </tr>\n",
       "  </thead>\n",
       "  <tbody>\n",
       "    <tr>\n",
       "      <th>0</th>\n",
       "      <td>A Great Big World</td>\n",
       "    </tr>\n",
       "    <tr>\n",
       "      <th>1</th>\n",
       "      <td>Adele</td>\n",
       "    </tr>\n",
       "    <tr>\n",
       "      <th>2</th>\n",
       "      <td>Alessia Cara</td>\n",
       "    </tr>\n",
       "    <tr>\n",
       "      <th>3</th>\n",
       "      <td>Bruno Mars</td>\n",
       "    </tr>\n",
       "    <tr>\n",
       "      <th>4</th>\n",
       "      <td>Cardi B</td>\n",
       "    </tr>\n",
       "    <tr>\n",
       "      <th>5</th>\n",
       "      <td>DNCE</td>\n",
       "    </tr>\n",
       "    <tr>\n",
       "      <th>6</th>\n",
       "      <td>Enrique Iglesias</td>\n",
       "    </tr>\n",
       "    <tr>\n",
       "      <th>7</th>\n",
       "      <td>Fergie</td>\n",
       "    </tr>\n",
       "    <tr>\n",
       "      <th>8</th>\n",
       "      <td>Justin Bieber</td>\n",
       "    </tr>\n",
       "    <tr>\n",
       "      <th>9</th>\n",
       "      <td>Justin Timberlake</td>\n",
       "    </tr>\n",
       "    <tr>\n",
       "      <th>10</th>\n",
       "      <td>Kygo</td>\n",
       "    </tr>\n",
       "    <tr>\n",
       "      <th>11</th>\n",
       "      <td>Maroon 5</td>\n",
       "    </tr>\n",
       "    <tr>\n",
       "      <th>12</th>\n",
       "      <td>Martin Solveig</td>\n",
       "    </tr>\n",
       "    <tr>\n",
       "      <th>13</th>\n",
       "      <td>Naughty Boy</td>\n",
       "    </tr>\n",
       "    <tr>\n",
       "      <th>14</th>\n",
       "      <td>Shawn Mendes</td>\n",
       "    </tr>\n",
       "    <tr>\n",
       "      <th>15</th>\n",
       "      <td>T.I.</td>\n",
       "    </tr>\n",
       "    <tr>\n",
       "      <th>16</th>\n",
       "      <td>Taylor Swift</td>\n",
       "    </tr>\n",
       "    <tr>\n",
       "      <th>17</th>\n",
       "      <td>The Weeknd</td>\n",
       "    </tr>\n",
       "    <tr>\n",
       "      <th>18</th>\n",
       "      <td>Tinie Tempah</td>\n",
       "    </tr>\n",
       "  </tbody>\n",
       "</table>\n",
       "</div>"
      ],
      "text/plain": [
       "               artist\n",
       "0   A Great Big World\n",
       "1               Adele\n",
       "2        Alessia Cara\n",
       "3          Bruno Mars\n",
       "4             Cardi B\n",
       "5                DNCE\n",
       "6    Enrique Iglesias\n",
       "7              Fergie\n",
       "8       Justin Bieber\n",
       "9   Justin Timberlake\n",
       "10               Kygo\n",
       "11           Maroon 5\n",
       "12     Martin Solveig\n",
       "13        Naughty Boy\n",
       "14       Shawn Mendes\n",
       "15               T.I.\n",
       "16       Taylor Swift\n",
       "17         The Weeknd\n",
       "18       Tinie Tempah"
      ]
     },
     "execution_count": 19,
     "metadata": {},
     "output_type": "execute_result"
    }
   ],
   "source": [
    "artists_with_two_songs = title_2.merge(df[['artist', 'title']],\n",
    "                                       on='title',\n",
    "                                       how='inner',\n",
    "                                       copy=False)\n",
    "pd.DataFrame(artists_with_two_songs['artist'].unique(),\n",
    "             columns=['artist']).sort_values('artist').reset_index(drop=True)"
   ]
  },
  {
   "cell_type": "markdown",
   "id": "bb966576",
   "metadata": {},
   "source": [
    "Surprisingly, no song of Katy Perry has appeared twice or more in the charts"
   ]
  },
  {
   "cell_type": "markdown",
   "id": "10f94f47",
   "metadata": {},
   "source": [
    "### Katy Perry\n",
    "<img src='https://upload.wikimedia.org/wikipedia/commons/thumb/c/c2/Katy_Perry_UNICEF_2012.jpg/800px-Katy_Perry_UNICEF_2012.jpg' width='200' align='left'>\n"
   ]
  },
  {
   "cell_type": "markdown",
   "id": "7ff1242c",
   "metadata": {},
   "source": [
    "Let's check her occurence statistics by year"
   ]
  },
  {
   "cell_type": "code",
   "execution_count": 20,
   "id": "b7baf052",
   "metadata": {},
   "outputs": [
    {
     "data": {
      "text/html": [
       "<div>\n",
       "<style scoped>\n",
       "    .dataframe tbody tr th:only-of-type {\n",
       "        vertical-align: middle;\n",
       "    }\n",
       "\n",
       "    .dataframe tbody tr th {\n",
       "        vertical-align: top;\n",
       "    }\n",
       "\n",
       "    .dataframe thead th {\n",
       "        text-align: right;\n",
       "    }\n",
       "</style>\n",
       "<table border=\"1\" class=\"dataframe\">\n",
       "  <thead>\n",
       "    <tr style=\"text-align: right;\">\n",
       "      <th></th>\n",
       "      <th>year</th>\n",
       "      <th>count</th>\n",
       "    </tr>\n",
       "  </thead>\n",
       "  <tbody>\n",
       "    <tr>\n",
       "      <th>0</th>\n",
       "      <td>2011</td>\n",
       "      <td>3</td>\n",
       "    </tr>\n",
       "    <tr>\n",
       "      <th>1</th>\n",
       "      <td>2012</td>\n",
       "      <td>3</td>\n",
       "    </tr>\n",
       "    <tr>\n",
       "      <th>2</th>\n",
       "      <td>2014</td>\n",
       "      <td>3</td>\n",
       "    </tr>\n",
       "    <tr>\n",
       "      <th>3</th>\n",
       "      <td>2017</td>\n",
       "      <td>3</td>\n",
       "    </tr>\n",
       "    <tr>\n",
       "      <th>4</th>\n",
       "      <td>2010</td>\n",
       "      <td>2</td>\n",
       "    </tr>\n",
       "    <tr>\n",
       "      <th>5</th>\n",
       "      <td>2013</td>\n",
       "      <td>1</td>\n",
       "    </tr>\n",
       "    <tr>\n",
       "      <th>6</th>\n",
       "      <td>2015</td>\n",
       "      <td>1</td>\n",
       "    </tr>\n",
       "    <tr>\n",
       "      <th>7</th>\n",
       "      <td>2016</td>\n",
       "      <td>1</td>\n",
       "    </tr>\n",
       "  </tbody>\n",
       "</table>\n",
       "</div>"
      ],
      "text/plain": [
       "   year  count\n",
       "0  2011      3\n",
       "1  2012      3\n",
       "2  2014      3\n",
       "3  2017      3\n",
       "4  2010      2\n",
       "5  2013      1\n",
       "6  2015      1\n",
       "7  2016      1"
      ]
     },
     "execution_count": 20,
     "metadata": {},
     "output_type": "execute_result"
    }
   ],
   "source": [
    "kp = df[df['artist'] == 'Katy Perry']['year'].value_counts().to_frame(\n",
    ").reset_index(level=0).rename(columns={\n",
    "    'index': 'year',\n",
    "    'year': 'count'\n",
    "})\n",
    "kp"
   ]
  },
  {
   "cell_type": "code",
   "execution_count": 21,
   "id": "eba86d25",
   "metadata": {},
   "outputs": [
    {
     "data": {
      "image/png": "[encoded data removed]",
      "text/plain": [
       "<Figure size 500x500 with 1 Axes>"
      ]
     },
     "metadata": {},
     "output_type": "display_data"
    }
   ],
   "source": [
    "g = sns.catplot(x='year', y='count', data=kp, kind='bar')\n",
    "g.fig.suptitle(\"Katy Perry Yearly Song Release\", y=1.03)\n",
    "g.set(xlabel='Year', ylabel='Count')\n",
    "plt.show()"
   ]
  },
  {
   "cell_type": "markdown",
   "id": "b7adecb4",
   "metadata": {},
   "source": [
    "Katy Perry appeared in the chart every year from 2010 to 2017 at least with one song!"
   ]
  },
  {
   "cell_type": "markdown",
   "id": "49c583b9",
   "metadata": {},
   "source": [
    "Let's check, how popular her songs were"
   ]
  },
  {
   "cell_type": "code",
   "execution_count": 22,
   "id": "cbcf5ffa",
   "metadata": {},
   "outputs": [
    {
     "data": {
      "image/png": "[encoded data removed]",
      "text/plain": [
       "<Figure size 500x500 with 1 Axes>"
      ]
     },
     "metadata": {},
     "output_type": "display_data"
    }
   ],
   "source": [
    "pop_kp = df[df['artist'] == 'Katy Perry'][['year', 'pop']]\n",
    "g = sns.catplot(x='year', y='pop', data=pop_kp, kind='bar')\n",
    "g.fig.suptitle(\"Katy Perry Yearly Popularity Rating\", y=1.03)\n",
    "g.set(xlabel='Year', ylabel='Popularity')\n",
    "plt.show()"
   ]
  },
  {
   "cell_type": "markdown",
   "id": "84f3f99e",
   "metadata": {},
   "source": [
    "On this bar graph, respresenting popularity of Katy Perry songs, we can see that the biggest distrubution of the popularity rate was in 2011.<br> 3 songs ended up in the charts, and their popularity ranged from ~25 to ~66 with a mean of ~39.\n",
    "In other years, when the singer released more than one hit, the spread of the popularity rate was not that big."
   ]
  },
  {
   "cell_type": "markdown",
   "id": "b0eb218b",
   "metadata": {},
   "source": [
    "The exact numbers for 2011 popularity can be checked here:"
   ]
  },
  {
   "cell_type": "code",
   "execution_count": 23,
   "id": "3c7d4f02",
   "metadata": {},
   "outputs": [
    {
     "name": "stdout",
     "output_type": "stream",
     "text": [
      "Katy Perry's songs of 2011 and their popularity score: \n",
      "                           title  pop\n",
      "0                          E.T.   66\n",
      "1  Last Friday Night (T.G.I.F.)   27\n",
      "2                      Firework   25\n",
      "\n",
      "\n",
      "The mean value of the popularity rate of Katy Perry in 2011 was 39.33\n"
     ]
    }
   ],
   "source": [
    "print(\n",
    "    \"Katy Perry's songs of 2011 and their popularity score:\", '\\n',\n",
    "    df[(df['artist'] == 'Katy Perry')\n",
    "       & (df['year'] == 2011)][['title', 'pop']].reset_index(drop=True))\n",
    "print('\\n')\n",
    "print(\n",
    "    'The mean value of the popularity rate of Katy Perry in 2011 was',\n",
    "    round(\n",
    "        df[(df['artist'] == 'Katy Perry')\n",
    "           & (df['year'] == 2011)]['pop'].mean(), 2))"
   ]
  },
  {
   "cell_type": "markdown",
   "id": "3bd036d6",
   "metadata": {},
   "source": [
    "The average popularity rate is pretty low, yet, she appeared with three songs in the chart that year<br> \n",
    "It seems that Katy Perry, despite appearing the most often in the chart, does not have quite high popularity ratings<br> Let's take a look at the mean popularity ratings of other artists and compare it to the occurence"
   ]
  },
  {
   "cell_type": "markdown",
   "id": "edbb19b6",
   "metadata": {},
   "source": [
    "### Popularity vs. occurence"
   ]
  },
  {
   "cell_type": "markdown",
   "id": "20ab364d",
   "metadata": {},
   "source": [
    "Let's group our artists and calculate mean popularity rate"
   ]
  },
  {
   "cell_type": "code",
   "execution_count": 24,
   "id": "f9763a0d",
   "metadata": {},
   "outputs": [
    {
     "name": "stdout",
     "output_type": "stream",
     "text": [
      "          artist        pop\n",
      "0  Lewis Capaldi  96.000000\n",
      "1          SHAED  92.000000\n",
      "2          Lizzo  90.000000\n",
      "3      Sam Smith  87.333333\n",
      "4          Mabel  86.000000\n",
      "5     Marshmello  86.000000\n",
      "\n",
      "\n",
      "And this is where Katy Perry is: \n",
      "\n",
      "         artist        pop\n",
      "126  Katy Perry  62.117647\n"
     ]
    }
   ],
   "source": [
    "groupped_pop = df.groupby(\n",
    "    'artist')['pop'].mean().to_frame().reset_index().sort_values(\n",
    "        by='pop', ascending=False).reset_index(drop=True)\n",
    "print(groupped_pop[0:6])\n",
    "print('\\n')\n",
    "print(\"And this is where Katy Perry is:\", '\\n')\n",
    "print(groupped_pop[groupped_pop['artist'] == 'Katy Perry'])"
   ]
  },
  {
   "cell_type": "markdown",
   "id": "cb277fed",
   "metadata": {},
   "source": [
    "126 place by popularity, despite appearing 17 times!"
   ]
  },
  {
   "cell_type": "markdown",
   "id": "f34e133d",
   "metadata": {},
   "source": [
    "Let's check how many times the first three popularity leaders appeared in the chart"
   ]
  },
  {
   "cell_type": "code",
   "execution_count": 25,
   "id": "3910abaf",
   "metadata": {},
   "outputs": [
    {
     "data": {
      "text/plain": [
       "Lizzo            2\n",
       "Lewis Capaldi    1\n",
       "SHAED            1\n",
       "Name: artist, dtype: int64"
      ]
     },
     "execution_count": 25,
     "metadata": {},
     "output_type": "execute_result"
    }
   ],
   "source": [
    "leads = groupped_pop['artist'][0:3].tolist()\n",
    "df[df['artist'].isin(leads)]['artist'].value_counts()"
   ]
  },
  {
   "cell_type": "markdown",
   "id": "5c1c426c",
   "metadata": {},
   "source": [
    "Alright, artists who have the first three highest popularity ratings actually did not appear more than two times in the chart, but they did score acceptionally high with their hits."
   ]
  },
  {
   "cell_type": "markdown",
   "id": "2115ffca",
   "metadata": {},
   "source": [
    "Here's Katy Perry's stats:"
   ]
  },
  {
   "cell_type": "code",
   "execution_count": 26,
   "id": "f290d9e9",
   "metadata": {},
   "outputs": [
    {
     "data": {
      "text/plain": [
       "count    17.000000\n",
       "mean     62.117647\n",
       "std      15.818827\n",
       "min      25.000000\n",
       "25%      63.000000\n",
       "50%      66.000000\n",
       "75%      71.000000\n",
       "max      78.000000\n",
       "Name: pop, dtype: float64"
      ]
     },
     "execution_count": 26,
     "metadata": {},
     "output_type": "execute_result"
    }
   ],
   "source": [
    "df[df['artist'] == 'Katy Perry']['pop'].describe()"
   ]
  },
  {
   "cell_type": "markdown",
   "id": "7d6e2ca5",
   "metadata": {},
   "source": [
    "Katty Perry, on the other hand, had varying popularity score from 25 to 78, but she consistently appeared in the chart almost every year with 1-3 songs.<br>\n",
    "I call it success! :)"
   ]
  },
  {
   "cell_type": "markdown",
   "id": "fe48fa92",
   "metadata": {},
   "source": [
    "## Most popular year"
   ]
  },
  {
   "cell_type": "markdown",
   "id": "73ba7ff4",
   "metadata": {},
   "source": [
    "Let's view which year had the highest popularity ratings"
   ]
  },
  {
   "cell_type": "code",
   "execution_count": 27,
   "id": "bc73726d",
   "metadata": {},
   "outputs": [
    {
     "name": "stdout",
     "output_type": "stream",
     "text": [
      "The year with highest popularity rating is: 2019\n"
     ]
    }
   ],
   "source": [
    "group_genre_pop = df.groupby('year')['pop'].mean().to_frame().reset_index()\n",
    "max_pop = group_genre_pop['pop'].max()\n",
    "print(\n",
    "    \"The year with highest popularity rating is:\",\n",
    "    group_genre_pop.loc[group_genre_pop['pop'] == max_pop,\n",
    "                        'year'].to_frame()['year'].squeeze())"
   ]
  },
  {
   "cell_type": "markdown",
   "id": "5fe7b70b",
   "metadata": {},
   "source": [
    "We can as well visualise it"
   ]
  },
  {
   "cell_type": "code",
   "execution_count": 28,
   "id": "f2305a56",
   "metadata": {},
   "outputs": [
    {
     "data": {
      "image/png": "[encoded data removed]",
      "text/plain": [
       "<Figure size 500x500 with 1 Axes>"
      ]
     },
     "metadata": {},
     "output_type": "display_data"
    }
   ],
   "source": [
    "g = sns.catplot(x='year', y='pop', data=df, kind='bar')\n",
    "g.fig.suptitle(\"Popularity by Year\")\n",
    "g.set(xlabel='Year', ylabel='Count')\n",
    "plt.xticks(rotation=45)\n",
    "plt.show()"
   ]
  },
  {
   "cell_type": "markdown",
   "id": "32b83779",
   "metadata": {},
   "source": [
    "2019 has the highest popularity score <br>\n",
    "Let's see how many songs were released in 2019"
   ]
  },
  {
   "cell_type": "code",
   "execution_count": 29,
   "id": "a9c18dd0",
   "metadata": {},
   "outputs": [
    {
     "name": "stdout",
     "output_type": "stream",
     "text": [
      "In 2019, 31 songs were released\n"
     ]
    }
   ],
   "source": [
    "print(\"In 2019,\", df[df['year'] == 2019].shape[0], \"songs were released\")"
   ]
  },
  {
   "cell_type": "markdown",
   "id": "ceeff4bf",
   "metadata": {},
   "source": [
    "Can we compare it to other years?"
   ]
  },
  {
   "cell_type": "code",
   "execution_count": 30,
   "id": "b9000882",
   "metadata": {},
   "outputs": [
    {
     "data": {
      "text/html": [
       "<div>\n",
       "<style scoped>\n",
       "    .dataframe tbody tr th:only-of-type {\n",
       "        vertical-align: middle;\n",
       "    }\n",
       "\n",
       "    .dataframe tbody tr th {\n",
       "        vertical-align: top;\n",
       "    }\n",
       "\n",
       "    .dataframe thead th {\n",
       "        text-align: right;\n",
       "    }\n",
       "</style>\n",
       "<table border=\"1\" class=\"dataframe\">\n",
       "  <thead>\n",
       "    <tr style=\"text-align: right;\">\n",
       "      <th></th>\n",
       "      <th>year</th>\n",
       "      <th>count</th>\n",
       "    </tr>\n",
       "  </thead>\n",
       "  <tbody>\n",
       "    <tr>\n",
       "      <th>7</th>\n",
       "      <td>2010</td>\n",
       "      <td>51</td>\n",
       "    </tr>\n",
       "    <tr>\n",
       "      <th>6</th>\n",
       "      <td>2011</td>\n",
       "      <td>53</td>\n",
       "    </tr>\n",
       "    <tr>\n",
       "      <th>8</th>\n",
       "      <td>2012</td>\n",
       "      <td>35</td>\n",
       "    </tr>\n",
       "    <tr>\n",
       "      <th>2</th>\n",
       "      <td>2013</td>\n",
       "      <td>71</td>\n",
       "    </tr>\n",
       "    <tr>\n",
       "      <th>5</th>\n",
       "      <td>2014</td>\n",
       "      <td>58</td>\n",
       "    </tr>\n",
       "    <tr>\n",
       "      <th>0</th>\n",
       "      <td>2015</td>\n",
       "      <td>95</td>\n",
       "    </tr>\n",
       "    <tr>\n",
       "      <th>1</th>\n",
       "      <td>2016</td>\n",
       "      <td>80</td>\n",
       "    </tr>\n",
       "    <tr>\n",
       "      <th>3</th>\n",
       "      <td>2017</td>\n",
       "      <td>65</td>\n",
       "    </tr>\n",
       "    <tr>\n",
       "      <th>4</th>\n",
       "      <td>2018</td>\n",
       "      <td>64</td>\n",
       "    </tr>\n",
       "    <tr>\n",
       "      <th>9</th>\n",
       "      <td>2019</td>\n",
       "      <td>31</td>\n",
       "    </tr>\n",
       "  </tbody>\n",
       "</table>\n",
       "</div>"
      ],
      "text/plain": [
       "   year  count\n",
       "7  2010     51\n",
       "6  2011     53\n",
       "8  2012     35\n",
       "2  2013     71\n",
       "5  2014     58\n",
       "0  2015     95\n",
       "1  2016     80\n",
       "3  2017     65\n",
       "4  2018     64\n",
       "9  2019     31"
      ]
     },
     "execution_count": 30,
     "metadata": {},
     "output_type": "execute_result"
    }
   ],
   "source": [
    "song_count = df['year'].value_counts().to_frame().reset_index().rename(\n",
    "    columns={\n",
    "        \"index\": \"year\",\n",
    "        \"year\": \"count\"\n",
    "    }).sort_values('year')\n",
    "song_count"
   ]
  },
  {
   "cell_type": "code",
   "execution_count": 31,
   "id": "1602bde1",
   "metadata": {},
   "outputs": [
    {
     "data": {
      "image/png": "[encoded data removed]",
      "text/plain": [
       "<Figure size 500x500 with 1 Axes>"
      ]
     },
     "metadata": {},
     "output_type": "display_data"
    }
   ],
   "source": [
    "g = sns.catplot(x='year', y='count', data=song_count, kind='bar')\n",
    "g.fig.suptitle(\"Number of Songs per Year\", y=1.02)\n",
    "g.set(xlabel='Year', ylabel='Count')\n",
    "plt.xticks(rotation=45)\n",
    "plt.show()"
   ]
  },
  {
   "cell_type": "markdown",
   "id": "8b34a3df",
   "metadata": {},
   "source": [
    "That's interesting, 2019 has only 31 records in our data set, but yet the highest popularity rating<br>\n",
    "Let's take a closer look at our popularity rating values<br>\n",
    "First, let's check their distribution"
   ]
  },
  {
   "cell_type": "code",
   "execution_count": 32,
   "id": "fcac7db9",
   "metadata": {},
   "outputs": [
    {
     "data": {
      "image/png": "[encoded data removed]",
      "text/plain": [
       "<Figure size 500x500 with 1 Axes>"
      ]
     },
     "metadata": {},
     "output_type": "display_data"
    }
   ],
   "source": [
    "g = sns.displot(x='pop', data=df, kde=True)\n",
    "g.fig.suptitle(\"Popularity Distribution\", y=1.03)\n",
    "g.set(xlabel='Popularity', ylabel='Value')\n",
    "plt.show()"
   ]
  },
  {
   "cell_type": "markdown",
   "id": "082217d5",
   "metadata": {},
   "source": [
    "This is a normal distribution with a left skew<br>\n",
    "Let's count the values of the popularity rating in 2019 and compare it with other years"
   ]
  },
  {
   "cell_type": "code",
   "execution_count": 33,
   "id": "e146155e",
   "metadata": {},
   "outputs": [
    {
     "data": {
      "text/html": [
       "<div>\n",
       "<style scoped>\n",
       "    .dataframe tbody tr th:only-of-type {\n",
       "        vertical-align: middle;\n",
       "    }\n",
       "\n",
       "    .dataframe tbody tr th {\n",
       "        vertical-align: top;\n",
       "    }\n",
       "\n",
       "    .dataframe thead th {\n",
       "        text-align: right;\n",
       "    }\n",
       "</style>\n",
       "<table border=\"1\" class=\"dataframe\">\n",
       "  <thead>\n",
       "    <tr style=\"text-align: right;\">\n",
       "      <th></th>\n",
       "      <th>rating</th>\n",
       "      <th>count</th>\n",
       "    </tr>\n",
       "  </thead>\n",
       "  <tbody>\n",
       "    <tr>\n",
       "      <th>0</th>\n",
       "      <td>67</td>\n",
       "      <td>1</td>\n",
       "    </tr>\n",
       "    <tr>\n",
       "      <th>1</th>\n",
       "      <td>69</td>\n",
       "      <td>1</td>\n",
       "    </tr>\n",
       "    <tr>\n",
       "      <th>2</th>\n",
       "      <td>70</td>\n",
       "      <td>1</td>\n",
       "    </tr>\n",
       "    <tr>\n",
       "      <th>3</th>\n",
       "      <td>75</td>\n",
       "      <td>2</td>\n",
       "    </tr>\n",
       "    <tr>\n",
       "      <th>4</th>\n",
       "      <td>76</td>\n",
       "      <td>1</td>\n",
       "    </tr>\n",
       "    <tr>\n",
       "      <th>5</th>\n",
       "      <td>77</td>\n",
       "      <td>1</td>\n",
       "    </tr>\n",
       "    <tr>\n",
       "      <th>6</th>\n",
       "      <td>78</td>\n",
       "      <td>1</td>\n",
       "    </tr>\n",
       "    <tr>\n",
       "      <th>7</th>\n",
       "      <td>81</td>\n",
       "      <td>3</td>\n",
       "    </tr>\n",
       "    <tr>\n",
       "      <th>8</th>\n",
       "      <td>82</td>\n",
       "      <td>1</td>\n",
       "    </tr>\n",
       "    <tr>\n",
       "      <th>9</th>\n",
       "      <td>83</td>\n",
       "      <td>1</td>\n",
       "    </tr>\n",
       "    <tr>\n",
       "      <th>10</th>\n",
       "      <td>84</td>\n",
       "      <td>2</td>\n",
       "    </tr>\n",
       "    <tr>\n",
       "      <th>11</th>\n",
       "      <td>85</td>\n",
       "      <td>1</td>\n",
       "    </tr>\n",
       "    <tr>\n",
       "      <th>12</th>\n",
       "      <td>86</td>\n",
       "      <td>3</td>\n",
       "    </tr>\n",
       "    <tr>\n",
       "      <th>13</th>\n",
       "      <td>87</td>\n",
       "      <td>1</td>\n",
       "    </tr>\n",
       "    <tr>\n",
       "      <th>14</th>\n",
       "      <td>88</td>\n",
       "      <td>1</td>\n",
       "    </tr>\n",
       "    <tr>\n",
       "      <th>15</th>\n",
       "      <td>90</td>\n",
       "      <td>3</td>\n",
       "    </tr>\n",
       "    <tr>\n",
       "      <th>16</th>\n",
       "      <td>92</td>\n",
       "      <td>2</td>\n",
       "    </tr>\n",
       "    <tr>\n",
       "      <th>17</th>\n",
       "      <td>93</td>\n",
       "      <td>1</td>\n",
       "    </tr>\n",
       "    <tr>\n",
       "      <th>18</th>\n",
       "      <td>95</td>\n",
       "      <td>1</td>\n",
       "    </tr>\n",
       "    <tr>\n",
       "      <th>19</th>\n",
       "      <td>96</td>\n",
       "      <td>1</td>\n",
       "    </tr>\n",
       "    <tr>\n",
       "      <th>20</th>\n",
       "      <td>97</td>\n",
       "      <td>1</td>\n",
       "    </tr>\n",
       "    <tr>\n",
       "      <th>21</th>\n",
       "      <td>99</td>\n",
       "      <td>1</td>\n",
       "    </tr>\n",
       "  </tbody>\n",
       "</table>\n",
       "</div>"
      ],
      "text/plain": [
       "    rating  count\n",
       "0       67      1\n",
       "1       69      1\n",
       "2       70      1\n",
       "3       75      2\n",
       "4       76      1\n",
       "5       77      1\n",
       "6       78      1\n",
       "7       81      3\n",
       "8       82      1\n",
       "9       83      1\n",
       "10      84      2\n",
       "11      85      1\n",
       "12      86      3\n",
       "13      87      1\n",
       "14      88      1\n",
       "15      90      3\n",
       "16      92      2\n",
       "17      93      1\n",
       "18      95      1\n",
       "19      96      1\n",
       "20      97      1\n",
       "21      99      1"
      ]
     },
     "execution_count": 33,
     "metadata": {},
     "output_type": "execute_result"
    }
   ],
   "source": [
    "pop_2019 = df[df['year'] == 2019]['pop'].value_counts().to_frame()\n",
    "pop_2019 = pop_2019.reset_index().rename(columns={\n",
    "    'index': 'rating',\n",
    "    'pop': 'count'\n",
    "}).sort_values(by='rating').reset_index(drop=True)\n",
    "pop_2019"
   ]
  },
  {
   "cell_type": "markdown",
   "id": "46d4dc0b",
   "metadata": {},
   "source": [
    "We can see a lot of higher ratings and not so many lower ones in 2019. Could that be one of the reasons for such high popularity with a low number of songs? Could there be outliers?"
   ]
  },
  {
   "cell_type": "markdown",
   "id": "60404e81",
   "metadata": {},
   "source": [
    "### Talk about outliers"
   ]
  },
  {
   "cell_type": "markdown",
   "id": "6af9fbeb",
   "metadata": {},
   "source": [
    "Let's dive into some statistics and calculate the outliers threshold"
   ]
  },
  {
   "cell_type": "code",
   "execution_count": 34,
   "id": "0d084ccd",
   "metadata": {},
   "outputs": [
    {
     "name": "stdout",
     "output_type": "stream",
     "text": [
      "The first quartile equals to 60.0\n",
      "The third quartile equals to 76.0\n",
      "The IQR equals to 16.0\n",
      "The upper outlier threshold is 100.0\n",
      "The lower outlier threshold is 36.0\n"
     ]
    }
   ],
   "source": [
    "first_q = df['pop'].quantile(.25)\n",
    "print('The first quartile equals to', first_q)\n",
    "\n",
    "third_q = df['pop'].quantile(.75)\n",
    "print('The third quartile equals to', third_q)\n",
    "\n",
    "inter_q = iqr(df['pop'])\n",
    "print('The IQR equals to', inter_q)\n",
    "\n",
    "upper_outlier = third_q + (inter_q * 1.5)\n",
    "print('The upper outlier threshold is', upper_outlier)\n",
    "\n",
    "lower_outlier = first_q - (inter_q * 1.5)\n",
    "print('The lower outlier threshold is', lower_outlier)"
   ]
  },
  {
   "cell_type": "markdown",
   "id": "54e6df08",
   "metadata": {},
   "source": [
    "Let's look again at the descriptive statistic of the popularity rating"
   ]
  },
  {
   "cell_type": "code",
   "execution_count": 35,
   "id": "59fbf93f",
   "metadata": {},
   "outputs": [
    {
     "data": {
      "text/plain": [
       "count    603.000000\n",
       "mean      66.520730\n",
       "std       14.517746\n",
       "min        0.000000\n",
       "25%       60.000000\n",
       "50%       69.000000\n",
       "75%       76.000000\n",
       "max       99.000000\n",
       "Name: pop, dtype: float64"
      ]
     },
     "execution_count": 35,
     "metadata": {},
     "output_type": "execute_result"
    }
   ],
   "source": [
    "df['pop'].describe()"
   ]
  },
  {
   "cell_type": "markdown",
   "id": "097139ab",
   "metadata": {},
   "source": [
    "Since the upper outlier threshold is higher than the maximum value of the popularity rating, it is safe to conclude that there are no upper outliers"
   ]
  },
  {
   "cell_type": "markdown",
   "id": "354f96ca",
   "metadata": {},
   "source": [
    "On the other hand, we may assume that there are some lower outliers<br>\n",
    "To prove it, let's subset our data with the lower outlier threshold"
   ]
  },
  {
   "cell_type": "code",
   "execution_count": 36,
   "id": "c96e6aab",
   "metadata": {},
   "outputs": [
    {
     "data": {
      "text/html": [
       "<div>\n",
       "<style scoped>\n",
       "    .dataframe tbody tr th:only-of-type {\n",
       "        vertical-align: middle;\n",
       "    }\n",
       "\n",
       "    .dataframe tbody tr th {\n",
       "        vertical-align: top;\n",
       "    }\n",
       "\n",
       "    .dataframe thead th {\n",
       "        text-align: right;\n",
       "    }\n",
       "</style>\n",
       "<table border=\"1\" class=\"dataframe\">\n",
       "  <thead>\n",
       "    <tr style=\"text-align: right;\">\n",
       "      <th></th>\n",
       "      <th>year</th>\n",
       "      <th>count</th>\n",
       "    </tr>\n",
       "  </thead>\n",
       "  <tbody>\n",
       "    <tr>\n",
       "      <th>4</th>\n",
       "      <td>2010</td>\n",
       "      <td>2</td>\n",
       "    </tr>\n",
       "    <tr>\n",
       "      <th>0</th>\n",
       "      <td>2011</td>\n",
       "      <td>5</td>\n",
       "    </tr>\n",
       "    <tr>\n",
       "      <th>6</th>\n",
       "      <td>2012</td>\n",
       "      <td>1</td>\n",
       "    </tr>\n",
       "    <tr>\n",
       "      <th>5</th>\n",
       "      <td>2013</td>\n",
       "      <td>2</td>\n",
       "    </tr>\n",
       "    <tr>\n",
       "      <th>2</th>\n",
       "      <td>2014</td>\n",
       "      <td>3</td>\n",
       "    </tr>\n",
       "    <tr>\n",
       "      <th>3</th>\n",
       "      <td>2015</td>\n",
       "      <td>3</td>\n",
       "    </tr>\n",
       "    <tr>\n",
       "      <th>1</th>\n",
       "      <td>2016</td>\n",
       "      <td>5</td>\n",
       "    </tr>\n",
       "  </tbody>\n",
       "</table>\n",
       "</div>"
      ],
      "text/plain": [
       "   year  count\n",
       "4  2010      2\n",
       "0  2011      5\n",
       "6  2012      1\n",
       "5  2013      2\n",
       "2  2014      3\n",
       "3  2015      3\n",
       "1  2016      5"
      ]
     },
     "execution_count": 36,
     "metadata": {},
     "output_type": "execute_result"
    }
   ],
   "source": [
    "df[df['pop'] < lower_outlier]['year'].value_counts().to_frame().reset_index(\n",
    ").rename(columns={\n",
    "    'index': 'year',\n",
    "    'year': 'count'\n",
    "}).sort_values(by='year')"
   ]
  },
  {
   "cell_type": "markdown",
   "id": "ddf2cf50",
   "metadata": {},
   "source": [
    "Yes, there are lower outliers almost every year, which can drag the mean value of the population down"
   ]
  },
  {
   "cell_type": "markdown",
   "id": "85f1503c",
   "metadata": {},
   "source": [
    "To visualize all these calculations and statistics, we can plot boxplots"
   ]
  },
  {
   "cell_type": "code",
   "execution_count": 37,
   "id": "6e954e6b",
   "metadata": {},
   "outputs": [
    {
     "data": {
      "image/png": "[encoded data removed]",
      "text/plain": [
       "<Figure size 500x500 with 1 Axes>"
      ]
     },
     "metadata": {},
     "output_type": "display_data"
    }
   ],
   "source": [
    "g = sns.catplot(x='year', y='pop', data=df, kind='box')\n",
    "g.fig.suptitle(\"Popularity by Year\", y=1.03)\n",
    "g.set(xlabel='Year', ylabel='Popularity')\n",
    "plt.xticks(rotation=45)\n",
    "plt.show()"
   ]
  },
  {
   "cell_type": "markdown",
   "id": "7f0716ba",
   "metadata": {},
   "source": [
    "On this plot, we can see the proof of our assumptions.<br> \n",
    "The median of the 2019 is much higher and the IQR is smaller, compared to other years. That means, that in 2019 the tracks received predominantly higher ratings. Years before 2019 have a great number of lower outliers, which drag the mean value down"
   ]
  },
  {
   "cell_type": "markdown",
   "id": "7b28864a",
   "metadata": {},
   "source": [
    "#### Weird ratings"
   ]
  },
  {
   "cell_type": "markdown",
   "id": "0efce9fa",
   "metadata": {},
   "source": [
    "It is also interesting that there are five zero values, let's explore that"
   ]
  },
  {
   "cell_type": "code",
   "execution_count": 38,
   "id": "e08cd2b4",
   "metadata": {},
   "outputs": [
    {
     "data": {
      "text/html": [
       "<div>\n",
       "<style scoped>\n",
       "    .dataframe tbody tr th:only-of-type {\n",
       "        vertical-align: middle;\n",
       "    }\n",
       "\n",
       "    .dataframe tbody tr th {\n",
       "        vertical-align: top;\n",
       "    }\n",
       "\n",
       "    .dataframe thead th {\n",
       "        text-align: right;\n",
       "    }\n",
       "</style>\n",
       "<table border=\"1\" class=\"dataframe\">\n",
       "  <thead>\n",
       "    <tr style=\"text-align: right;\">\n",
       "      <th></th>\n",
       "      <th>title</th>\n",
       "      <th>artist</th>\n",
       "      <th>top genre</th>\n",
       "      <th>year</th>\n",
       "      <th>bpm</th>\n",
       "      <th>nrgy</th>\n",
       "      <th>dnce</th>\n",
       "      <th>dB</th>\n",
       "      <th>live</th>\n",
       "      <th>val</th>\n",
       "      <th>dur</th>\n",
       "      <th>acous</th>\n",
       "      <th>spch</th>\n",
       "      <th>pop</th>\n",
       "    </tr>\n",
       "  </thead>\n",
       "  <tbody>\n",
       "    <tr>\n",
       "      <th>50</th>\n",
       "      <td>Hello</td>\n",
       "      <td>Martin Solveig</td>\n",
       "      <td>big room</td>\n",
       "      <td>2010</td>\n",
       "      <td>128</td>\n",
       "      <td>98</td>\n",
       "      <td>67</td>\n",
       "      <td>-3</td>\n",
       "      <td>10</td>\n",
       "      <td>45</td>\n",
       "      <td>191</td>\n",
       "      <td>1</td>\n",
       "      <td>3</td>\n",
       "      <td>0</td>\n",
       "    </tr>\n",
       "    <tr>\n",
       "      <th>138</th>\n",
       "      <td>Blow Me (One Last Kiss)</td>\n",
       "      <td>P!nk</td>\n",
       "      <td>dance pop</td>\n",
       "      <td>2012</td>\n",
       "      <td>114</td>\n",
       "      <td>92</td>\n",
       "      <td>60</td>\n",
       "      <td>-3</td>\n",
       "      <td>25</td>\n",
       "      <td>75</td>\n",
       "      <td>256</td>\n",
       "      <td>0</td>\n",
       "      <td>4</td>\n",
       "      <td>0</td>\n",
       "    </tr>\n",
       "    <tr>\n",
       "      <th>267</th>\n",
       "      <td>Not a Bad Thing</td>\n",
       "      <td>Justin Timberlake</td>\n",
       "      <td>dance pop</td>\n",
       "      <td>2014</td>\n",
       "      <td>86</td>\n",
       "      <td>73</td>\n",
       "      <td>59</td>\n",
       "      <td>-6</td>\n",
       "      <td>38</td>\n",
       "      <td>46</td>\n",
       "      <td>266</td>\n",
       "      <td>27</td>\n",
       "      <td>6</td>\n",
       "      <td>0</td>\n",
       "    </tr>\n",
       "    <tr>\n",
       "      <th>362</th>\n",
       "      <td>L.A.LOVE (la la)</td>\n",
       "      <td>Fergie</td>\n",
       "      <td>dance pop</td>\n",
       "      <td>2015</td>\n",
       "      <td>202</td>\n",
       "      <td>39</td>\n",
       "      <td>48</td>\n",
       "      <td>-8</td>\n",
       "      <td>26</td>\n",
       "      <td>27</td>\n",
       "      <td>193</td>\n",
       "      <td>2</td>\n",
       "      <td>9</td>\n",
       "      <td>0</td>\n",
       "    </tr>\n",
       "    <tr>\n",
       "      <th>442</th>\n",
       "      <td>Million Years Ago</td>\n",
       "      <td>Adele</td>\n",
       "      <td>british soul</td>\n",
       "      <td>2016</td>\n",
       "      <td>0</td>\n",
       "      <td>0</td>\n",
       "      <td>0</td>\n",
       "      <td>-60</td>\n",
       "      <td>0</td>\n",
       "      <td>0</td>\n",
       "      <td>227</td>\n",
       "      <td>0</td>\n",
       "      <td>0</td>\n",
       "      <td>0</td>\n",
       "    </tr>\n",
       "  </tbody>\n",
       "</table>\n",
       "</div>"
      ],
      "text/plain": [
       "                       title             artist     top genre  year  bpm  \\\n",
       "50                     Hello     Martin Solveig      big room  2010  128   \n",
       "138  Blow Me (One Last Kiss)               P!nk     dance pop  2012  114   \n",
       "267          Not a Bad Thing  Justin Timberlake     dance pop  2014   86   \n",
       "362         L.A.LOVE (la la)             Fergie     dance pop  2015  202   \n",
       "442        Million Years Ago              Adele  british soul  2016    0   \n",
       "\n",
       "     nrgy  dnce  dB  live  val  dur  acous  spch  pop  \n",
       "50     98    67  -3    10   45  191      1     3    0  \n",
       "138    92    60  -3    25   75  256      0     4    0  \n",
       "267    73    59  -6    38   46  266     27     6    0  \n",
       "362    39    48  -8    26   27  193      2     9    0  \n",
       "442     0     0 -60     0    0  227      0     0    0  "
      ]
     },
     "execution_count": 38,
     "metadata": {},
     "output_type": "execute_result"
    }
   ],
   "source": [
    "df[df['pop'] == 0]"
   ]
  },
  {
   "cell_type": "markdown",
   "id": "25a1b6f1",
   "metadata": {},
   "source": [
    "Taking a look at these records, we may assume that most probably they were incorrectly filled out<br>\n",
    "If there was a modeling implied, it would make sence to remove these records"
   ]
  },
  {
   "cell_type": "markdown",
   "id": "9f030c4e",
   "metadata": {},
   "source": [
    "#### P!nk and the role of zeros\n",
    "\n",
    "<img src='https://upload.wikimedia.org/wikipedia/commons/thumb/8/86/Pink_2019-07-27_Munich_%28cropped%29.jpg/800px-Pink_2019-07-27_Munich_%28cropped%29.jpg' width='200' align='left'>"
   ]
  },
  {
   "cell_type": "markdown",
   "id": "3d5d32cd",
   "metadata": {},
   "source": [
    "To demonstrate the effect of mistaken zero values, I would like to show an example of my favourite artist P!nk"
   ]
  },
  {
   "cell_type": "code",
   "execution_count": 39,
   "id": "244812d7",
   "metadata": {},
   "outputs": [
    {
     "data": {
      "text/html": [
       "<div>\n",
       "<style scoped>\n",
       "    .dataframe tbody tr th:only-of-type {\n",
       "        vertical-align: middle;\n",
       "    }\n",
       "\n",
       "    .dataframe tbody tr th {\n",
       "        vertical-align: top;\n",
       "    }\n",
       "\n",
       "    .dataframe thead th {\n",
       "        text-align: right;\n",
       "    }\n",
       "</style>\n",
       "<table border=\"1\" class=\"dataframe\">\n",
       "  <thead>\n",
       "    <tr style=\"text-align: right;\">\n",
       "      <th></th>\n",
       "      <th>title</th>\n",
       "      <th>pop</th>\n",
       "    </tr>\n",
       "  </thead>\n",
       "  <tbody>\n",
       "    <tr>\n",
       "      <th>138</th>\n",
       "      <td>Blow Me (One Last Kiss)</td>\n",
       "      <td>0</td>\n",
       "    </tr>\n",
       "    <tr>\n",
       "      <th>98</th>\n",
       "      <td>Raise Your Glass</td>\n",
       "      <td>38</td>\n",
       "    </tr>\n",
       "    <tr>\n",
       "      <th>556</th>\n",
       "      <td>What About Us</td>\n",
       "      <td>66</td>\n",
       "    </tr>\n",
       "    <tr>\n",
       "      <th>399</th>\n",
       "      <td>Just Like Fire (From the Original Motion Pictu...</td>\n",
       "      <td>71</td>\n",
       "    </tr>\n",
       "    <tr>\n",
       "      <th>115</th>\n",
       "      <td>Try</td>\n",
       "      <td>74</td>\n",
       "    </tr>\n",
       "    <tr>\n",
       "      <th>142</th>\n",
       "      <td>Just Give Me a Reason (feat. Nate Ruess)</td>\n",
       "      <td>81</td>\n",
       "    </tr>\n",
       "  </tbody>\n",
       "</table>\n",
       "</div>"
      ],
      "text/plain": [
       "                                                 title  pop\n",
       "138                            Blow Me (One Last Kiss)    0\n",
       "98                                    Raise Your Glass   38\n",
       "556                                      What About Us   66\n",
       "399  Just Like Fire (From the Original Motion Pictu...   71\n",
       "115                                                Try   74\n",
       "142           Just Give Me a Reason (feat. Nate Ruess)   81"
      ]
     },
     "execution_count": 39,
     "metadata": {},
     "output_type": "execute_result"
    }
   ],
   "source": [
    "df[df['artist'] == 'P!nk'][['title', 'pop']].sort_values(by='pop')"
   ]
  },
  {
   "cell_type": "markdown",
   "id": "9ec5873b",
   "metadata": {},
   "source": [
    "P!nk appered 6 times in the chart, her mean popularity will be the following:"
   ]
  },
  {
   "cell_type": "code",
   "execution_count": 40,
   "id": "3afa4edf",
   "metadata": {},
   "outputs": [
    {
     "data": {
      "text/plain": [
       "55.0"
      ]
     },
     "execution_count": 40,
     "metadata": {},
     "output_type": "execute_result"
    }
   ],
   "source": [
    "df[df['artist'] == 'P!nk']['pop'].mean()"
   ]
  },
  {
   "cell_type": "markdown",
   "id": "d8882566",
   "metadata": {},
   "source": [
    "We can as well calculate the mean manually and eliminate the 0 value:"
   ]
  },
  {
   "cell_type": "code",
   "execution_count": 41,
   "id": "7095dff6",
   "metadata": {},
   "outputs": [
    {
     "data": {
      "text/plain": [
       "66.0"
      ]
     },
     "execution_count": 41,
     "metadata": {},
     "output_type": "execute_result"
    }
   ],
   "source": [
    "sum(df[df['artist'] == 'P!nk']['pop'].tolist()) / (\n",
    "    len(df[df['artist'] == 'P!nk']['pop']) - 1)"
   ]
  },
  {
   "cell_type": "markdown",
   "id": "522c56f5",
   "metadata": {},
   "source": [
    "A completely different story."
   ]
  },
  {
   "cell_type": "markdown",
   "id": "5a9d1f8b",
   "metadata": {},
   "source": [
    "In case of outliers, it is advisible to refer to median instead of mean <br>\n",
    "As we can see below, this value is very close to the actual average"
   ]
  },
  {
   "cell_type": "code",
   "execution_count": 42,
   "id": "7ca89d1e",
   "metadata": {},
   "outputs": [
    {
     "data": {
      "text/plain": [
       "68.5"
      ]
     },
     "execution_count": 42,
     "metadata": {},
     "output_type": "execute_result"
    }
   ],
   "source": [
    "df[df['artist'] == 'P!nk']['pop'].median()"
   ]
  },
  {
   "cell_type": "markdown",
   "id": "3af8945f",
   "metadata": {},
   "source": [
    "### Over 80"
   ]
  },
  {
   "cell_type": "markdown",
   "id": "7cd62719",
   "metadata": {},
   "source": [
    "Let's choose a threshold of 80 for the popularity and see the count of ratings higher than that among the years."
   ]
  },
  {
   "cell_type": "code",
   "execution_count": 43,
   "id": "883d656a",
   "metadata": {},
   "outputs": [
    {
     "data": {
      "text/html": [
       "<div>\n",
       "<style scoped>\n",
       "    .dataframe tbody tr th:only-of-type {\n",
       "        vertical-align: middle;\n",
       "    }\n",
       "\n",
       "    .dataframe tbody tr th {\n",
       "        vertical-align: top;\n",
       "    }\n",
       "\n",
       "    .dataframe thead th {\n",
       "        text-align: right;\n",
       "    }\n",
       "</style>\n",
       "<table border=\"1\" class=\"dataframe\">\n",
       "  <thead>\n",
       "    <tr style=\"text-align: right;\">\n",
       "      <th></th>\n",
       "      <th>year</th>\n",
       "      <th>count</th>\n",
       "    </tr>\n",
       "  </thead>\n",
       "  <tbody>\n",
       "    <tr>\n",
       "      <th>0</th>\n",
       "      <td>2010</td>\n",
       "      <td>2</td>\n",
       "    </tr>\n",
       "    <tr>\n",
       "      <th>1</th>\n",
       "      <td>2011</td>\n",
       "      <td>1</td>\n",
       "    </tr>\n",
       "    <tr>\n",
       "      <th>2</th>\n",
       "      <td>2013</td>\n",
       "      <td>4</td>\n",
       "    </tr>\n",
       "    <tr>\n",
       "      <th>3</th>\n",
       "      <td>2014</td>\n",
       "      <td>2</td>\n",
       "    </tr>\n",
       "    <tr>\n",
       "      <th>4</th>\n",
       "      <td>2015</td>\n",
       "      <td>8</td>\n",
       "    </tr>\n",
       "    <tr>\n",
       "      <th>5</th>\n",
       "      <td>2016</td>\n",
       "      <td>5</td>\n",
       "    </tr>\n",
       "    <tr>\n",
       "      <th>6</th>\n",
       "      <td>2017</td>\n",
       "      <td>8</td>\n",
       "    </tr>\n",
       "    <tr>\n",
       "      <th>7</th>\n",
       "      <td>2018</td>\n",
       "      <td>16</td>\n",
       "    </tr>\n",
       "    <tr>\n",
       "      <th>8</th>\n",
       "      <td>2019</td>\n",
       "      <td>23</td>\n",
       "    </tr>\n",
       "  </tbody>\n",
       "</table>\n",
       "</div>"
      ],
      "text/plain": [
       "   year  count\n",
       "0  2010      2\n",
       "1  2011      1\n",
       "2  2013      4\n",
       "3  2014      2\n",
       "4  2015      8\n",
       "5  2016      5\n",
       "6  2017      8\n",
       "7  2018     16\n",
       "8  2019     23"
      ]
     },
     "execution_count": 43,
     "metadata": {},
     "output_type": "execute_result"
    }
   ],
   "source": [
    "above_80 = df.loc[df['pop'] > 80,\n",
    "                  'year'].value_counts().to_frame().reset_index().rename(\n",
    "                      columns={\n",
    "                          'index': 'year',\n",
    "                          'year': 'count'\n",
    "                      }).sort_values(by='year').reset_index(drop=True)\n",
    "above_80"
   ]
  },
  {
   "cell_type": "code",
   "execution_count": 44,
   "id": "bed8ce36",
   "metadata": {},
   "outputs": [
    {
     "data": {
      "image/png": "[encoded data removed]",
      "text/plain": [
       "<Figure size 500x500 with 1 Axes>"
      ]
     },
     "metadata": {},
     "output_type": "display_data"
    }
   ],
   "source": [
    "g = sns.catplot(x='year', y='count', data=above_80, kind='bar')\n",
    "g.fig.suptitle(\"Popularity Above 80 by Year\", y=1.02)\n",
    "g.set(xlabel='Year', ylabel='Count')\n",
    "plt.xticks(rotation=45)\n",
    "plt.show()"
   ]
  },
  {
   "cell_type": "markdown",
   "id": "33b351c2",
   "metadata": {},
   "source": [
    "### Conclusion"
   ]
  },
  {
   "cell_type": "markdown",
   "id": "c7ff72d6",
   "metadata": {},
   "source": [
    "* The amount of tracks, that received a rating of more than 80 is way higher in 2019<br>\n",
    "* Years 2010-2018 have less high score ratings and many lower outliers, including songs with 0 rating <br>\n",
    "That is why, despite the low number of total songs, 2019 still has such a high popularity score"
   ]
  },
  {
   "cell_type": "markdown",
   "id": "b9a6491c",
   "metadata": {},
   "source": [
    "## Trends"
   ]
  },
  {
   "cell_type": "markdown",
   "id": "ddc2f1cb",
   "metadata": {},
   "source": [
    "Let's check out some trends throughout the years"
   ]
  },
  {
   "cell_type": "code",
   "execution_count": 45,
   "id": "a3703408",
   "metadata": {},
   "outputs": [
    {
     "data": {
      "image/png": "[encoded data removed]",
      "text/plain": [
       "<Figure size 500x500 with 1 Axes>"
      ]
     },
     "metadata": {},
     "output_type": "display_data"
    }
   ],
   "source": [
    "g = sns.relplot(x='year', y='dnce', data=df, kind='line', ci=None)\n",
    "g.fig.suptitle(\"Dancability of the Songs\", y=1.02)\n",
    "g.set(xlabel='Year', ylabel='Dancability')\n",
    "plt.show()"
   ]
  },
  {
   "cell_type": "markdown",
   "id": "f08be53e",
   "metadata": {},
   "source": [
    "After 2016, songs dancibility is incrasing"
   ]
  },
  {
   "cell_type": "code",
   "execution_count": 46,
   "id": "63645442",
   "metadata": {},
   "outputs": [
    {
     "data": {
      "image/png": "[encoded data removed]",
      "text/plain": [
       "<Figure size 500x500 with 1 Axes>"
      ]
     },
     "metadata": {},
     "output_type": "display_data"
    }
   ],
   "source": [
    "g = sns.relplot(x='year', y='nrgy', data=df, kind='line', ci=None)\n",
    "g.fig.suptitle(\"Energy of the Songs\", y=1.02)\n",
    "g.set(xlabel='Year', ylabel='Energy')\n",
    "plt.show()"
   ]
  },
  {
   "cell_type": "markdown",
   "id": "de2e5173",
   "metadata": {},
   "source": [
    "The energy of the songs, on the other hand, is visibly decreasing"
   ]
  },
  {
   "cell_type": "markdown",
   "id": "aa3c8aa3",
   "metadata": {},
   "source": [
    "## Genres"
   ]
  },
  {
   "cell_type": "markdown",
   "id": "21d0ac6e",
   "metadata": {},
   "source": [
    "Let's take a look at the most frequent genres"
   ]
  },
  {
   "cell_type": "code",
   "execution_count": 47,
   "id": "5c1dbe7b",
   "metadata": {},
   "outputs": [
    {
     "name": "stdout",
     "output_type": "stream",
     "text": [
      "there are 50 unique genres\n",
      "Here are the top 10:\n",
      "\n",
      "\n",
      "                       genre  count\n",
      "0                  dance pop    327\n",
      "1                        pop     60\n",
      "2               canadian pop     34\n",
      "3              barbadian pop     15\n",
      "4                   boy band     15\n",
      "5                 electropop     13\n",
      "6               british soul     11\n",
      "7                   big room     10\n",
      "8  canadian contemporary r&b      9\n",
      "9                 neo mellow      9\n"
     ]
    }
   ],
   "source": [
    "genres = df['top genre'].value_counts().to_frame().reset_index().rename(\n",
    "    columns={\n",
    "        'index': 'genre',\n",
    "        'top genre': 'count'\n",
    "    })\n",
    "print('there are', genres.shape[0], 'unique genres')\n",
    "print('Here are the top 10:')\n",
    "print('\\n')\n",
    "print(genres.head(10))"
   ]
  },
  {
   "cell_type": "markdown",
   "id": "e732179f",
   "metadata": {},
   "source": [
    "The most frequent genre is dance pop. But how about the popularity?<br>\n",
    "Does appearing more often in the chart has an ifluence on popularity rate?"
   ]
  },
  {
   "cell_type": "code",
   "execution_count": 48,
   "id": "b68fb954",
   "metadata": {},
   "outputs": [
    {
     "data": {
      "text/html": [
       "<div>\n",
       "<style scoped>\n",
       "    .dataframe tbody tr th:only-of-type {\n",
       "        vertical-align: middle;\n",
       "    }\n",
       "\n",
       "    .dataframe tbody tr th {\n",
       "        vertical-align: top;\n",
       "    }\n",
       "\n",
       "    .dataframe thead th {\n",
       "        text-align: right;\n",
       "    }\n",
       "</style>\n",
       "<table border=\"1\" class=\"dataframe\">\n",
       "  <thead>\n",
       "    <tr style=\"text-align: right;\">\n",
       "      <th></th>\n",
       "      <th>top genre</th>\n",
       "      <th>pop</th>\n",
       "    </tr>\n",
       "  </thead>\n",
       "  <tbody>\n",
       "    <tr>\n",
       "      <th>0</th>\n",
       "      <td>escape room</td>\n",
       "      <td>90.000000</td>\n",
       "    </tr>\n",
       "    <tr>\n",
       "      <th>1</th>\n",
       "      <td>brostep</td>\n",
       "      <td>86.000000</td>\n",
       "    </tr>\n",
       "    <tr>\n",
       "      <th>2</th>\n",
       "      <td>alternative r&amp;b</td>\n",
       "      <td>84.000000</td>\n",
       "    </tr>\n",
       "    <tr>\n",
       "      <th>3</th>\n",
       "      <td>irish singer-songwriter</td>\n",
       "      <td>81.000000</td>\n",
       "    </tr>\n",
       "    <tr>\n",
       "      <th>4</th>\n",
       "      <td>danish pop</td>\n",
       "      <td>80.000000</td>\n",
       "    </tr>\n",
       "    <tr>\n",
       "      <th>5</th>\n",
       "      <td>celtic rock</td>\n",
       "      <td>80.000000</td>\n",
       "    </tr>\n",
       "    <tr>\n",
       "      <th>6</th>\n",
       "      <td>electronic trap</td>\n",
       "      <td>79.500000</td>\n",
       "    </tr>\n",
       "    <tr>\n",
       "      <th>7</th>\n",
       "      <td>edm</td>\n",
       "      <td>78.200000</td>\n",
       "    </tr>\n",
       "    <tr>\n",
       "      <th>8</th>\n",
       "      <td>canadian contemporary r&amp;b</td>\n",
       "      <td>77.666667</td>\n",
       "    </tr>\n",
       "    <tr>\n",
       "      <th>9</th>\n",
       "      <td>electropop</td>\n",
       "      <td>77.461538</td>\n",
       "    </tr>\n",
       "  </tbody>\n",
       "</table>\n",
       "</div>"
      ],
      "text/plain": [
       "                   top genre        pop\n",
       "0                escape room  90.000000\n",
       "1                    brostep  86.000000\n",
       "2            alternative r&b  84.000000\n",
       "3    irish singer-songwriter  81.000000\n",
       "4                 danish pop  80.000000\n",
       "5                celtic rock  80.000000\n",
       "6            electronic trap  79.500000\n",
       "7                        edm  78.200000\n",
       "8  canadian contemporary r&b  77.666667\n",
       "9                 electropop  77.461538"
      ]
     },
     "execution_count": 48,
     "metadata": {},
     "output_type": "execute_result"
    }
   ],
   "source": [
    "top_genre = df.groupby(\n",
    "    'top genre')['pop'].mean().to_frame().reset_index().sort_values(\n",
    "        by='pop', ascending=False).reset_index(drop=True)\n",
    "top_genre.head(10)"
   ]
  },
  {
   "cell_type": "code",
   "execution_count": 49,
   "id": "f0c85b05",
   "metadata": {},
   "outputs": [
    {
     "name": "stdout",
     "output_type": "stream",
     "text": [
      "And this is where the dance pop is is: \n",
      "\n",
      "    top genre        pop\n",
      "30  dance pop  64.363914\n"
     ]
    }
   ],
   "source": [
    "print(\"And this is where the dance pop is is:\", '\\n')\n",
    "print(top_genre[top_genre['top genre'] == 'dance pop'])"
   ]
  },
  {
   "cell_type": "markdown",
   "id": "b4823851",
   "metadata": {},
   "source": [
    "Just like with the artist, the most frequent genre dance pop is only on the 30th position in terms of popularity rate"
   ]
  },
  {
   "cell_type": "markdown",
   "id": "edb70786",
   "metadata": {},
   "source": [
    "Let's check the occurence of the highest popularity genres"
   ]
  },
  {
   "cell_type": "code",
   "execution_count": 50,
   "id": "ba1d5095",
   "metadata": {},
   "outputs": [
    {
     "data": {
      "text/plain": [
       "brostep                    2\n",
       "escape room                2\n",
       "celtic rock                1\n",
       "irish singer-songwriter    1\n",
       "danish pop                 1\n",
       "alternative r&b            1\n",
       "Name: top genre, dtype: int64"
      ]
     },
     "execution_count": 50,
     "metadata": {},
     "output_type": "execute_result"
    }
   ],
   "source": [
    "leads_g = top_genre['top genre'][0:6].tolist()\n",
    "df[df['top genre'].isin(leads_g)]['top genre'].value_counts()"
   ]
  },
  {
   "cell_type": "markdown",
   "id": "770c4ca5",
   "metadata": {},
   "source": [
    "The 5 highest popularity genres genres, just like artists, do not appear more than twice in our chart"
   ]
  },
  {
   "cell_type": "markdown",
   "id": "02aa96ef",
   "metadata": {},
   "source": [
    "## Conclusion"
   ]
  },
  {
   "cell_type": "markdown",
   "id": "7d68a352",
   "metadata": {},
   "source": [
    "We observe the same trend both with the artists and the genres. Even though dance pop appeared most often in the chart, the songs of this genre seem to have received lower popularity ratings on the average <br>\n",
    "Songs of other genres had a skyrocketing popularity rate, at the same time having a smaller occurence rate<br>\n",
    "\n",
    "We may conclude that new singers, performing in new genres, enter the music industry with a great success. These are singers like Lizzo, Lewis Capaldi and SHAED. <br>\n",
    "\n",
    "Other lead singers, such as Lady Gaga, Katy Perry and Justin Bieber, who have been in the industry for years, still keep their popularity positions with their loyal army of fans, consistently releasing new tracks, but cede to others in popularity ratings."
   ]
  }
 ],
 "metadata": {
  "kernelspec": {
   "display_name": "Python 3 (ipykernel)",
   "language": "python",
   "name": "python3"
  },
  "language_info": {
   "codemirror_mode": {
    "name": "ipython",
    "version": 3
   },
   "file_extension": ".py",
   "mimetype": "text/x-python",
   "name": "python",
   "nbconvert_exporter": "python",
   "pygments_lexer": "ipython3",
   "version": "3.9.7"
  },
  "toc": {
   "base_numbering": 1,
   "nav_menu": {},
   "number_sections": true,
   "sideBar": true,
   "skip_h1_title": true,
   "title_cell": "Table of Contents",
   "title_sidebar": "Contents",
   "toc_cell": true,
   "toc_position": {},
   "toc_section_display": true,
   "toc_window_display": true
  }
 },
 "nbformat": 4,
 "nbformat_minor": 5
}
